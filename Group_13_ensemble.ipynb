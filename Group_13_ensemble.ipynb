{
 "cells": [
  {
   "cell_type": "code",
   "execution_count": 78,
   "id": "2f2224d7",
   "metadata": {},
   "outputs": [],
   "source": [
    "import pandas as pd\n",
    "import numpy as np\n",
    "import matplotlib.pyplot as plt\n",
    "import seaborn as sns\n",
    "import pickle\n",
    "import warnings\n",
    "warnings.filterwarnings('ignore')"
   ]
  },
  {
   "cell_type": "code",
   "execution_count": 79,
   "id": "62290a1c",
   "metadata": {},
   "outputs": [],
   "source": [
    "from sklearn.model_selection import train_test_split\n",
    "from sklearn import metrics\n",
    "from sklearn.metrics import r2_score\n",
    "from sklearn.metrics import mean_squared_error\n",
    "from sklearn.metrics import mean_absolute_error\n",
    "from skelm import ELMRegressor\n",
    "from sklearn.linear_model import Ridge"
   ]
  },
  {
   "cell_type": "code",
   "execution_count": 80,
   "id": "13142633",
   "metadata": {},
   "outputs": [
    {
     "data": {
      "text/html": [
       "<div>\n",
       "<style scoped>\n",
       "    .dataframe tbody tr th:only-of-type {\n",
       "        vertical-align: middle;\n",
       "    }\n",
       "\n",
       "    .dataframe tbody tr th {\n",
       "        vertical-align: top;\n",
       "    }\n",
       "\n",
       "    .dataframe thead th {\n",
       "        text-align: right;\n",
       "    }\n",
       "</style>\n",
       "<table border=\"1\" class=\"dataframe\">\n",
       "  <thead>\n",
       "    <tr style=\"text-align: right;\">\n",
       "      <th></th>\n",
       "      <th>AT</th>\n",
       "      <th>AP</th>\n",
       "      <th>AH</th>\n",
       "      <th>AFDP</th>\n",
       "      <th>GTEP</th>\n",
       "      <th>TIT</th>\n",
       "      <th>TAT</th>\n",
       "      <th>TEY</th>\n",
       "      <th>CDP</th>\n",
       "      <th>CO</th>\n",
       "      <th>NOX</th>\n",
       "    </tr>\n",
       "  </thead>\n",
       "  <tbody>\n",
       "    <tr>\n",
       "      <th>0</th>\n",
       "      <td>4.5878</td>\n",
       "      <td>1018.7</td>\n",
       "      <td>83.675</td>\n",
       "      <td>3.5758</td>\n",
       "      <td>23.979</td>\n",
       "      <td>1086.2</td>\n",
       "      <td>549.83</td>\n",
       "      <td>134.67</td>\n",
       "      <td>11.898</td>\n",
       "      <td>0.32663</td>\n",
       "      <td>81.952</td>\n",
       "    </tr>\n",
       "    <tr>\n",
       "      <th>1</th>\n",
       "      <td>4.2932</td>\n",
       "      <td>1018.3</td>\n",
       "      <td>84.235</td>\n",
       "      <td>3.5709</td>\n",
       "      <td>23.951</td>\n",
       "      <td>1086.1</td>\n",
       "      <td>550.05</td>\n",
       "      <td>134.67</td>\n",
       "      <td>11.892</td>\n",
       "      <td>0.44784</td>\n",
       "      <td>82.377</td>\n",
       "    </tr>\n",
       "    <tr>\n",
       "      <th>2</th>\n",
       "      <td>3.9045</td>\n",
       "      <td>1018.4</td>\n",
       "      <td>84.858</td>\n",
       "      <td>3.5828</td>\n",
       "      <td>23.990</td>\n",
       "      <td>1086.5</td>\n",
       "      <td>550.19</td>\n",
       "      <td>135.10</td>\n",
       "      <td>12.042</td>\n",
       "      <td>0.45144</td>\n",
       "      <td>83.776</td>\n",
       "    </tr>\n",
       "    <tr>\n",
       "      <th>3</th>\n",
       "      <td>3.7436</td>\n",
       "      <td>1018.3</td>\n",
       "      <td>85.434</td>\n",
       "      <td>3.5808</td>\n",
       "      <td>23.911</td>\n",
       "      <td>1086.5</td>\n",
       "      <td>550.17</td>\n",
       "      <td>135.03</td>\n",
       "      <td>11.990</td>\n",
       "      <td>0.23107</td>\n",
       "      <td>82.505</td>\n",
       "    </tr>\n",
       "    <tr>\n",
       "      <th>4</th>\n",
       "      <td>3.7516</td>\n",
       "      <td>1017.8</td>\n",
       "      <td>85.182</td>\n",
       "      <td>3.5781</td>\n",
       "      <td>23.917</td>\n",
       "      <td>1085.9</td>\n",
       "      <td>550.00</td>\n",
       "      <td>134.67</td>\n",
       "      <td>11.910</td>\n",
       "      <td>0.26747</td>\n",
       "      <td>82.028</td>\n",
       "    </tr>\n",
       "  </tbody>\n",
       "</table>\n",
       "</div>"
      ],
      "text/plain": [
       "       AT      AP      AH    AFDP    GTEP     TIT     TAT     TEY     CDP  \\\n",
       "0  4.5878  1018.7  83.675  3.5758  23.979  1086.2  549.83  134.67  11.898   \n",
       "1  4.2932  1018.3  84.235  3.5709  23.951  1086.1  550.05  134.67  11.892   \n",
       "2  3.9045  1018.4  84.858  3.5828  23.990  1086.5  550.19  135.10  12.042   \n",
       "3  3.7436  1018.3  85.434  3.5808  23.911  1086.5  550.17  135.03  11.990   \n",
       "4  3.7516  1017.8  85.182  3.5781  23.917  1085.9  550.00  134.67  11.910   \n",
       "\n",
       "        CO     NOX  \n",
       "0  0.32663  81.952  \n",
       "1  0.44784  82.377  \n",
       "2  0.45144  83.776  \n",
       "3  0.23107  82.505  \n",
       "4  0.26747  82.028  "
      ]
     },
     "execution_count": 80,
     "metadata": {},
     "output_type": "execute_result"
    }
   ],
   "source": [
    "df = pd.read_csv(\"Group_13_data_cleaned.csv\")\n",
    "df.head()"
   ]
  },
  {
   "cell_type": "code",
   "execution_count": 81,
   "id": "179d03f0",
   "metadata": {},
   "outputs": [],
   "source": [
    "# prepare the data for the model\n",
    "# select the only NOX as target variable\n",
    "nox_df = df.copy()\n",
    "nox_df = nox_df.drop(\"CO\", axis = 1) # drop the target variable CO"
   ]
  },
  {
   "cell_type": "code",
   "execution_count": 82,
   "id": "4a97060f",
   "metadata": {},
   "outputs": [],
   "source": [
    "# split the data for training and test using sklearn train_test_split function \n",
    "from sklearn.model_selection import train_test_split\n",
    "from sklearn.preprocessing import Normalizer\n",
    "\n",
    "# split the data \n",
    "X = nox_df.iloc[:, :-1]\n",
    "y = nox_df[\"NOX\"]"
   ]
  },
  {
   "cell_type": "code",
   "execution_count": 83,
   "id": "276f5b07",
   "metadata": {},
   "outputs": [],
   "source": [
    "from sklearn.preprocessing import MinMaxScaler\n",
    "from sklearn.preprocessing import StandardScaler, MinMaxScaler, RobustScaler \n",
    "from sklearn.metrics import r2_score"
   ]
  },
  {
   "cell_type": "code",
   "execution_count": 84,
   "id": "aca3337a",
   "metadata": {},
   "outputs": [
    {
     "data": {
      "text/plain": [
       "((29386, 9), (7347, 9), (29386,), (7347,))"
      ]
     },
     "execution_count": 84,
     "metadata": {},
     "output_type": "execute_result"
    }
   ],
   "source": [
    "from sklearn.model_selection import train_test_split\n",
    "from sklearn import metrics\n",
    "\n",
    "X_train, X_test, y_train, y_test = train_test_split(X, y,  test_size = 0.2,random_state= 42, shuffle = True)\n",
    "X_train.shape ,X_test.shape,y_train.shape, y_test.shape"
   ]
  },
  {
   "cell_type": "code",
   "execution_count": 85,
   "id": "a9a97a0c",
   "metadata": {},
   "outputs": [],
   "source": [
    "# Feature scaling using standard scaler\n",
    "from sklearn.preprocessing import StandardScaler\n",
    "sc = StandardScaler()\n",
    "X_train = sc.fit_transform(X_train)\n",
    "X_test = sc.transform(X_test)"
   ]
  },
  {
   "cell_type": "markdown",
   "id": "08d50747",
   "metadata": {},
   "source": [
    "# Single models"
   ]
  },
  {
   "cell_type": "markdown",
   "id": "83da900f",
   "metadata": {},
   "source": [
    "# Linear Regression best model"
   ]
  },
  {
   "cell_type": "code",
   "execution_count": 86,
   "id": "ec60da2b",
   "metadata": {},
   "outputs": [
    {
     "name": "stdout",
     "output_type": "stream",
     "text": [
      "The mean absolute error is 5.522325519055797\n",
      "The mean squared error is 56.830857835226816\n",
      "The root mean squared error is 7.538624399399854\n"
     ]
    }
   ],
   "source": [
    "from sklearn.linear_model import LinearRegression\n",
    "best_linear = LinearRegression(copy_X= True, fit_intercept= True)\n",
    "best_linear.fit(X_train,y_train)\n",
    "\n",
    "y_test_pred = best_linear.predict(X_test)\n",
    "MSE = mean_squared_error(y_test, y_test_pred)\n",
    "MAE =  mean_absolute_error(y_test, y_test_pred)\n",
    "RMSE = MSE**0.5\n",
    "\n",
    "print(f\"The mean absolute error is {MAE}\")\n",
    "print(f\"The mean squared error is {MSE}\")\n",
    "print(f\"The root mean squared error is {RMSE}\")"
   ]
  },
  {
   "cell_type": "markdown",
   "id": "8592362c",
   "metadata": {},
   "source": [
    "# KNN best model"
   ]
  },
  {
   "cell_type": "code",
   "execution_count": 87,
   "id": "5db09c5d",
   "metadata": {},
   "outputs": [
    {
     "name": "stdout",
     "output_type": "stream",
     "text": [
      "The mean absolute error is 2.546409040097436\n",
      "The mean squared error is 16.640377812578652\n",
      "The root mean squared error is 4.079261920075573\n"
     ]
    }
   ],
   "source": [
    "from sklearn.neighbors import KNeighborsRegressor\n",
    "best_knn = KNeighborsRegressor(weights= 'distance', p= 1, n_neighbors= 5)\n",
    "best_knn.fit(X_train,y_train)\n",
    "\n",
    "y_test_pred = best_knn.predict(X_test)\n",
    "MSE = mean_squared_error(y_test, y_test_pred)\n",
    "MAE =  mean_absolute_error(y_test, y_test_pred)\n",
    "RMSE = MSE**0.5\n",
    "\n",
    "print(f\"The mean absolute error is {MAE}\")\n",
    "print(f\"The mean squared error is {MSE}\")\n",
    "print(f\"The root mean squared error is {RMSE}\")"
   ]
  },
  {
   "cell_type": "markdown",
   "id": "77c8458f",
   "metadata": {},
   "source": [
    "# Decision Tree best model"
   ]
  },
  {
   "cell_type": "code",
   "execution_count": 88,
   "id": "eb3c563a",
   "metadata": {},
   "outputs": [
    {
     "name": "stdout",
     "output_type": "stream",
     "text": [
      "The mean absolute error is 3.607803206908116\n",
      "The mean squared error is 29.519521733309197\n",
      "The root mean squared error is 5.433187069603733\n"
     ]
    }
   ],
   "source": [
    "from sklearn.tree import DecisionTreeRegressor\n",
    "best_dtr = DecisionTreeRegressor(splitter='best', min_samples_split= 4, min_samples_leaf= 5, \n",
    "                                 max_features= 'auto', max_depth= 12)\n",
    "best_dtr.fit(X_train,y_train)\n",
    "\n",
    "y_test_pred = best_dtr.predict(X_test)\n",
    "MSE = mean_squared_error(y_test, y_test_pred)\n",
    "MAE =  mean_absolute_error(y_test, y_test_pred)\n",
    "RMSE = MSE**0.5\n",
    "\n",
    "print(f\"The mean absolute error is {MAE}\")\n",
    "print(f\"The mean squared error is {MSE}\")\n",
    "print(f\"The root mean squared error is {RMSE}\")"
   ]
  },
  {
   "cell_type": "markdown",
   "id": "7be1048f",
   "metadata": {},
   "source": [
    "# Random Forest best model"
   ]
  },
  {
   "cell_type": "code",
   "execution_count": 89,
   "id": "074304ea",
   "metadata": {},
   "outputs": [
    {
     "name": "stdout",
     "output_type": "stream",
     "text": [
      "The mean absolute error is 2.6791398520915353\n",
      "The mean squared error is 16.544321350102013\n",
      "The root mean squared error is 4.067471124679561\n"
     ]
    }
   ],
   "source": [
    "from sklearn.ensemble import RandomForestRegressor\n",
    "best_rf = RandomForestRegressor(n_estimators= 300, max_features= 'log2', max_depth= 22,bootstrap=True)\n",
    "best_rf.fit(X_train,y_train)\n",
    "\n",
    "y_test_pred = best_rf.predict(X_test)\n",
    "MSE = mean_squared_error(y_test, y_test_pred)\n",
    "MAE =  mean_absolute_error(y_test, y_test_pred)\n",
    "RMSE = MSE**0.5\n",
    "\n",
    "print(f\"The mean absolute error is {MAE}\")\n",
    "print(f\"The mean squared error is {MSE}\")\n",
    "print(f\"The root mean squared error is {RMSE}\")"
   ]
  },
  {
   "cell_type": "markdown",
   "id": "35bdad09",
   "metadata": {},
   "source": [
    "# SVM with linear kernel best model"
   ]
  },
  {
   "cell_type": "code",
   "execution_count": 90,
   "id": "3c1eb81d",
   "metadata": {},
   "outputs": [
    {
     "name": "stdout",
     "output_type": "stream",
     "text": [
      "The mean absolute error is 5.354599876306204\n",
      "The mean squared error is 61.17643184018405\n",
      "The root mean squared error is 7.821536411740602\n"
     ]
    }
   ],
   "source": [
    "from sklearn.svm import SVR\n",
    "best_svm_linear = SVR(kernel=\"linear\")\n",
    "best_svm_linear.fit(X_train,y_train)\n",
    "\n",
    "y_test_pred = best_svm_linear.predict(X_test)\n",
    "MSE = mean_squared_error(y_test, y_test_pred)\n",
    "MAE =  mean_absolute_error(y_test, y_test_pred)\n",
    "RMSE = MSE**0.5\n",
    "\n",
    "print(f\"The mean absolute error is {MAE}\")\n",
    "print(f\"The mean squared error is {MSE}\")\n",
    "print(f\"The root mean squared error is {RMSE}\")"
   ]
  },
  {
   "cell_type": "markdown",
   "id": "3230b029",
   "metadata": {},
   "source": [
    "# SVM with non-linear kernel best model"
   ]
  },
  {
   "cell_type": "code",
   "execution_count": 91,
   "id": "db676922",
   "metadata": {},
   "outputs": [
    {
     "name": "stdout",
     "output_type": "stream",
     "text": [
      "The mean absolute error is 3.850598825007777\n",
      "The mean squared error is 32.434758761858646\n",
      "The root mean squared error is 5.695152215863826\n"
     ]
    }
   ],
   "source": [
    "best_svm_non_linear = SVR(kernel=\"rbf\")\n",
    "best_svm_non_linear.fit(X_train,y_train)\n",
    "\n",
    "y_test_pred = best_svm_non_linear.predict(X_test)\n",
    "MSE = mean_squared_error(y_test, y_test_pred)\n",
    "MAE =  mean_absolute_error(y_test, y_test_pred)\n",
    "RMSE = MSE**0.5\n",
    "\n",
    "print(f\"The mean absolute error is {MAE}\")\n",
    "print(f\"The mean squared error is {MSE}\")\n",
    "print(f\"The root mean squared error is {RMSE}\")"
   ]
  },
  {
   "cell_type": "markdown",
   "id": "ce08be96",
   "metadata": {},
   "source": [
    "# Ensembling the models and implemeting using Voting Regressor"
   ]
  },
  {
   "cell_type": "code",
   "execution_count": 94,
   "id": "b3d028f9",
   "metadata": {},
   "outputs": [],
   "source": [
    "model_1 = LinearRegression()\n",
    "\n",
    "model_2 = KNeighborsRegressor()\n",
    "\n",
    "model_3 = DecisionTreeRegressor()\n",
    "\n",
    "model_4 = RandomForestRegressor()\n",
    "\n",
    "model_5 = SVR(kernel=\"linear\")\n",
    "\n",
    "model_6 = SVR(kernel=\"rbf\")\n",
    "\n",
    "model_7 = LinearRegression(copy_X= True, fit_intercept= True)\n",
    "\n",
    "model_8 = KNeighborsRegressor(weights= 'distance', p= 1, n_neighbors= 5)\n",
    "\n",
    "model_9 = DecisionTreeRegressor(splitter='best', min_samples_split= 4, min_samples_leaf= 5, \n",
    "                                 max_features= 'auto', max_depth= 12)\n",
    "\n",
    "model_10 = RandomForestRegressor(n_estimators= 300, max_features= 'log2', max_depth= 22,bootstrap=True)\n",
    "\n",
    "model_11 = SVR(kernel=\"linear\")\n",
    "\n",
    "model_12 = SVR(kernel=\"rbf\")\n",
    "\n",
    "model_14 = ELMRegressor()\n",
    "\n",
    "model_15 = ridge_regressor.predict(X_train)\n",
    "\n"
   ]
  },
  {
   "cell_type": "code",
   "execution_count": 95,
   "id": "963d0c69",
   "metadata": {},
   "outputs": [],
   "source": [
    "# Ensemble regression\n",
    "from sklearn.ensemble import VotingRegressor\n",
    "\n",
    "en_reg = VotingRegressor(estimators=[('lr', model_1),('knn', model_2),('dr', model_3),('rf', model_4),\n",
    "                                     ('svr',model_5),('svnr',model_6),('lr_1',model_7),('knn_1',model_8),\n",
    "                                     ('dr_1',model_9),('rf_1',model_10),('svr_1',model_11),('svr_2',model_12)])\n",
    "en_reg = en_reg.fit(X_train,y_train)\n",
    "\n"
   ]
  },
  {
   "cell_type": "code",
   "execution_count": 96,
   "id": "44a944d9",
   "metadata": {},
   "outputs": [
    {
     "data": {
      "text/plain": [
       "0.823329720283054"
      ]
     },
     "execution_count": 96,
     "metadata": {},
     "output_type": "execute_result"
    }
   ],
   "source": [
    "en_reg.score(X_test, y_test)"
   ]
  },
  {
   "cell_type": "code",
   "execution_count": 97,
   "id": "ecb8a61c",
   "metadata": {},
   "outputs": [
    {
     "name": "stdout",
     "output_type": "stream",
     "text": [
      "The mean absolute error is 3.3106380278455125\n",
      "The mean squared error is 23.411606662833304\n",
      "The root mean squared error is 4.838554191370942\n"
     ]
    }
   ],
   "source": [
    "# Ensemble model on test data\n",
    "y_test_pred = en_reg.predict(X_test)\n",
    "MSE = mean_squared_error(y_test_pred, y_test)\n",
    "MAE =  mean_absolute_error(y_test_pred, y_test)\n",
    "RMSE = MSE**0.5\n",
    "\n",
    "print(f\"The mean absolute error is {MAE}\")\n",
    "print(f\"The mean squared error is {MSE}\")\n",
    "print(f\"The root mean squared error is {RMSE}\")"
   ]
  },
  {
   "cell_type": "code",
   "execution_count": 98,
   "id": "eb08c2ea",
   "metadata": {},
   "outputs": [
    {
     "name": "stdout",
     "output_type": "stream",
     "text": [
      "+-------------------+---------+---------+---------+------------+\n",
      "| Model             |     MSE |    RMSE |     MAE |   R2_Score |\n",
      "|-------------------+---------+---------+---------+------------|\n",
      "| Linear Regression | 56.8309 | 7.53862 | 5.52233 |   0.571139 |\n",
      "| KNN               | 16.6404 | 4.07926 | 2.54641 |   0.874427 |\n",
      "| Decision Tree     | 29.5195 | 5.43319 | 3.6078  |   0.777238 |\n",
      "| Random Forest     | 16.5443 | 4.06747 | 2.67914 |   0.875152 |\n",
      "| SVM Linear        | 61.1764 | 7.82154 | 5.3546  |   0.538346 |\n",
      "| SVM Non Linear    | 32.4348 | 5.69515 | 3.8506  |   0.755239 |\n",
      "| Ensemble model    | 23.4116 | 4.83855 | 3.31064 |   0.82333  |\n",
      "+-------------------+---------+---------+---------+------------+\n"
     ]
    }
   ],
   "source": [
    "from tabulate import tabulate\n",
    "\n",
    "def metrics(name,x_train,y_test,pred):\n",
    "    MSE=mean_squared_error(y_test,pred)\n",
    "    RMSE=np.sqrt(mean_squared_error(y_test,pred))\n",
    "    MAE = mean_absolute_error(y_test,pred)\n",
    "    R2_Score=r2_score(y_test,pred)\n",
    "    return [name,MSE,RMSE,MAE,R2_Score]\n",
    "\n",
    "\n",
    "header = [\"Model\", \"MSE\",\"RMSE\",\"MAE\",\"R2_Score\"]\n",
    "data=[]\n",
    "data.append(metrics(\"Linear Regression\",X_train,y_test,best_linear.predict(X_test)))\n",
    "data.append(metrics(\"KNN\",X_train,y_test,best_knn.predict(X_test)))\n",
    "data.append(metrics(\"Decision Tree\",X_train,y_test,best_dtr.predict(X_test)))\n",
    "data.append(metrics(\"Random Forest\",X_train,y_test,best_rf.predict(X_test)))\n",
    "data.append(metrics(\"SVM Linear\",X_train,y_test,best_svm_linear.predict(X_test)))\n",
    "data.append(metrics(\"SVM Non Linear\",X_train,y_test,best_svm_non_linear.predict(X_test)))\n",
    "data.append(metrics(\"Ensemble model\",X_train,y_test,en_reg.predict(X_test)))\n",
    "\n",
    "print(tabulate(data, headers=header, tablefmt=\"psql\"))"
   ]
  },
  {
   "cell_type": "markdown",
   "id": "9bf696a8",
   "metadata": {},
   "source": [
    "##  For CO as Target Variable"
   ]
  },
  {
   "cell_type": "markdown",
   "id": "b7d90c5d",
   "metadata": {},
   "source": [
    "## Linear Regression"
   ]
  },
  {
   "cell_type": "code",
   "execution_count": 99,
   "id": "3c252845",
   "metadata": {},
   "outputs": [],
   "source": [
    "co_df = df.copy()\n",
    "co_df = co_df.drop(\"NOX\", axis = 1) # drop the target variable NOX"
   ]
  },
  {
   "cell_type": "code",
   "execution_count": 100,
   "id": "e7a89096",
   "metadata": {},
   "outputs": [
    {
     "data": {
      "text/html": [
       "<div>\n",
       "<style scoped>\n",
       "    .dataframe tbody tr th:only-of-type {\n",
       "        vertical-align: middle;\n",
       "    }\n",
       "\n",
       "    .dataframe tbody tr th {\n",
       "        vertical-align: top;\n",
       "    }\n",
       "\n",
       "    .dataframe thead th {\n",
       "        text-align: right;\n",
       "    }\n",
       "</style>\n",
       "<table border=\"1\" class=\"dataframe\">\n",
       "  <thead>\n",
       "    <tr style=\"text-align: right;\">\n",
       "      <th></th>\n",
       "      <th>AT</th>\n",
       "      <th>AP</th>\n",
       "      <th>AH</th>\n",
       "      <th>AFDP</th>\n",
       "      <th>GTEP</th>\n",
       "      <th>TIT</th>\n",
       "      <th>TAT</th>\n",
       "      <th>TEY</th>\n",
       "      <th>CDP</th>\n",
       "      <th>CO</th>\n",
       "    </tr>\n",
       "  </thead>\n",
       "  <tbody>\n",
       "    <tr>\n",
       "      <th>0</th>\n",
       "      <td>4.5878</td>\n",
       "      <td>1018.7</td>\n",
       "      <td>83.675</td>\n",
       "      <td>3.5758</td>\n",
       "      <td>23.979</td>\n",
       "      <td>1086.2</td>\n",
       "      <td>549.83</td>\n",
       "      <td>134.67</td>\n",
       "      <td>11.898</td>\n",
       "      <td>0.32663</td>\n",
       "    </tr>\n",
       "    <tr>\n",
       "      <th>1</th>\n",
       "      <td>4.2932</td>\n",
       "      <td>1018.3</td>\n",
       "      <td>84.235</td>\n",
       "      <td>3.5709</td>\n",
       "      <td>23.951</td>\n",
       "      <td>1086.1</td>\n",
       "      <td>550.05</td>\n",
       "      <td>134.67</td>\n",
       "      <td>11.892</td>\n",
       "      <td>0.44784</td>\n",
       "    </tr>\n",
       "    <tr>\n",
       "      <th>2</th>\n",
       "      <td>3.9045</td>\n",
       "      <td>1018.4</td>\n",
       "      <td>84.858</td>\n",
       "      <td>3.5828</td>\n",
       "      <td>23.990</td>\n",
       "      <td>1086.5</td>\n",
       "      <td>550.19</td>\n",
       "      <td>135.10</td>\n",
       "      <td>12.042</td>\n",
       "      <td>0.45144</td>\n",
       "    </tr>\n",
       "    <tr>\n",
       "      <th>3</th>\n",
       "      <td>3.7436</td>\n",
       "      <td>1018.3</td>\n",
       "      <td>85.434</td>\n",
       "      <td>3.5808</td>\n",
       "      <td>23.911</td>\n",
       "      <td>1086.5</td>\n",
       "      <td>550.17</td>\n",
       "      <td>135.03</td>\n",
       "      <td>11.990</td>\n",
       "      <td>0.23107</td>\n",
       "    </tr>\n",
       "    <tr>\n",
       "      <th>4</th>\n",
       "      <td>3.7516</td>\n",
       "      <td>1017.8</td>\n",
       "      <td>85.182</td>\n",
       "      <td>3.5781</td>\n",
       "      <td>23.917</td>\n",
       "      <td>1085.9</td>\n",
       "      <td>550.00</td>\n",
       "      <td>134.67</td>\n",
       "      <td>11.910</td>\n",
       "      <td>0.26747</td>\n",
       "    </tr>\n",
       "    <tr>\n",
       "      <th>...</th>\n",
       "      <td>...</td>\n",
       "      <td>...</td>\n",
       "      <td>...</td>\n",
       "      <td>...</td>\n",
       "      <td>...</td>\n",
       "      <td>...</td>\n",
       "      <td>...</td>\n",
       "      <td>...</td>\n",
       "      <td>...</td>\n",
       "      <td>...</td>\n",
       "    </tr>\n",
       "    <tr>\n",
       "      <th>36728</th>\n",
       "      <td>3.6268</td>\n",
       "      <td>1028.5</td>\n",
       "      <td>93.200</td>\n",
       "      <td>3.1661</td>\n",
       "      <td>19.087</td>\n",
       "      <td>1037.0</td>\n",
       "      <td>541.59</td>\n",
       "      <td>109.08</td>\n",
       "      <td>10.411</td>\n",
       "      <td>10.99300</td>\n",
       "    </tr>\n",
       "    <tr>\n",
       "      <th>36729</th>\n",
       "      <td>4.1674</td>\n",
       "      <td>1028.6</td>\n",
       "      <td>94.036</td>\n",
       "      <td>3.1923</td>\n",
       "      <td>19.016</td>\n",
       "      <td>1037.6</td>\n",
       "      <td>542.28</td>\n",
       "      <td>108.79</td>\n",
       "      <td>10.344</td>\n",
       "      <td>11.14400</td>\n",
       "    </tr>\n",
       "    <tr>\n",
       "      <th>36730</th>\n",
       "      <td>5.4820</td>\n",
       "      <td>1028.5</td>\n",
       "      <td>95.219</td>\n",
       "      <td>3.3128</td>\n",
       "      <td>18.857</td>\n",
       "      <td>1038.0</td>\n",
       "      <td>543.48</td>\n",
       "      <td>107.81</td>\n",
       "      <td>10.462</td>\n",
       "      <td>11.41400</td>\n",
       "    </tr>\n",
       "    <tr>\n",
       "      <th>36731</th>\n",
       "      <td>5.8837</td>\n",
       "      <td>1028.7</td>\n",
       "      <td>94.200</td>\n",
       "      <td>3.9831</td>\n",
       "      <td>23.563</td>\n",
       "      <td>1076.9</td>\n",
       "      <td>550.11</td>\n",
       "      <td>131.41</td>\n",
       "      <td>11.771</td>\n",
       "      <td>3.31340</td>\n",
       "    </tr>\n",
       "    <tr>\n",
       "      <th>36732</th>\n",
       "      <td>6.0392</td>\n",
       "      <td>1028.8</td>\n",
       "      <td>94.547</td>\n",
       "      <td>3.8752</td>\n",
       "      <td>22.524</td>\n",
       "      <td>1067.9</td>\n",
       "      <td>548.23</td>\n",
       "      <td>125.41</td>\n",
       "      <td>11.462</td>\n",
       "      <td>11.98100</td>\n",
       "    </tr>\n",
       "  </tbody>\n",
       "</table>\n",
       "<p>36733 rows × 10 columns</p>\n",
       "</div>"
      ],
      "text/plain": [
       "           AT      AP      AH    AFDP    GTEP     TIT     TAT     TEY     CDP  \\\n",
       "0      4.5878  1018.7  83.675  3.5758  23.979  1086.2  549.83  134.67  11.898   \n",
       "1      4.2932  1018.3  84.235  3.5709  23.951  1086.1  550.05  134.67  11.892   \n",
       "2      3.9045  1018.4  84.858  3.5828  23.990  1086.5  550.19  135.10  12.042   \n",
       "3      3.7436  1018.3  85.434  3.5808  23.911  1086.5  550.17  135.03  11.990   \n",
       "4      3.7516  1017.8  85.182  3.5781  23.917  1085.9  550.00  134.67  11.910   \n",
       "...       ...     ...     ...     ...     ...     ...     ...     ...     ...   \n",
       "36728  3.6268  1028.5  93.200  3.1661  19.087  1037.0  541.59  109.08  10.411   \n",
       "36729  4.1674  1028.6  94.036  3.1923  19.016  1037.6  542.28  108.79  10.344   \n",
       "36730  5.4820  1028.5  95.219  3.3128  18.857  1038.0  543.48  107.81  10.462   \n",
       "36731  5.8837  1028.7  94.200  3.9831  23.563  1076.9  550.11  131.41  11.771   \n",
       "36732  6.0392  1028.8  94.547  3.8752  22.524  1067.9  548.23  125.41  11.462   \n",
       "\n",
       "             CO  \n",
       "0       0.32663  \n",
       "1       0.44784  \n",
       "2       0.45144  \n",
       "3       0.23107  \n",
       "4       0.26747  \n",
       "...         ...  \n",
       "36728  10.99300  \n",
       "36729  11.14400  \n",
       "36730  11.41400  \n",
       "36731   3.31340  \n",
       "36732  11.98100  \n",
       "\n",
       "[36733 rows x 10 columns]"
      ]
     },
     "execution_count": 100,
     "metadata": {},
     "output_type": "execute_result"
    }
   ],
   "source": [
    "co_df"
   ]
  },
  {
   "cell_type": "code",
   "execution_count": 101,
   "id": "9ebf6d6e",
   "metadata": {},
   "outputs": [],
   "source": [
    "# split the data for training and test using sklearn train_test_split function \n",
    "from sklearn.model_selection import train_test_split\n",
    "from sklearn.preprocessing import Normalizer\n",
    "\n",
    "# split the data \n",
    "X = co_df.iloc[:, :-1]\n",
    "y = co_df[\"CO\"]"
   ]
  },
  {
   "cell_type": "code",
   "execution_count": 102,
   "id": "1e3e7e4d",
   "metadata": {},
   "outputs": [],
   "source": [
    "from sklearn.preprocessing import MinMaxScaler\n",
    "from sklearn.preprocessing import StandardScaler, MinMaxScaler, RobustScaler \n",
    "from sklearn.metrics import r2_score"
   ]
  },
  {
   "cell_type": "code",
   "execution_count": 103,
   "id": "196f4b14",
   "metadata": {},
   "outputs": [
    {
     "data": {
      "text/plain": [
       "((29386, 9), (7347, 9), (29386,), (7347,))"
      ]
     },
     "execution_count": 103,
     "metadata": {},
     "output_type": "execute_result"
    }
   ],
   "source": [
    "from sklearn.model_selection import train_test_split\n",
    "from sklearn import metrics\n",
    "\n",
    "X_train, X_test, y_train, y_test = train_test_split(X, y,  test_size = 0.2,random_state= 42, shuffle = True)\n",
    "X_train.shape ,X_test.shape,y_train.shape, y_test.shape"
   ]
  },
  {
   "cell_type": "code",
   "execution_count": 104,
   "id": "ce6bf0a1",
   "metadata": {},
   "outputs": [],
   "source": [
    "# Feature scaling using standard scaler\n",
    "from sklearn.preprocessing import StandardScaler\n",
    "sc = StandardScaler()\n",
    "X_train = sc.fit_transform(X_train)\n",
    "X_test = sc.transform(X_test)"
   ]
  },
  {
   "cell_type": "code",
   "execution_count": 105,
   "id": "98106120",
   "metadata": {},
   "outputs": [
    {
     "name": "stdout",
     "output_type": "stream",
     "text": [
      "The mean absolute error is 0.8350803011955488\n",
      "The mean squared error is 2.3801519120147665\n",
      "The root mean squared error is 1.542774096235339\n"
     ]
    }
   ],
   "source": [
    "from sklearn.linear_model import LinearRegression\n",
    "best_linear = LinearRegression(copy_X= True, fit_intercept= True)\n",
    "best_linear.fit(X_train,y_train)\n",
    "\n",
    "y_test_pred = best_linear.predict(X_test)\n",
    "MSE = mean_squared_error(y_test, y_test_pred)\n",
    "MAE =  mean_absolute_error(y_test, y_test_pred)\n",
    "RMSE = MSE**0.5\n",
    "\n",
    "print(f\"The mean absolute error is {MAE}\")\n",
    "print(f\"The mean squared error is {MSE}\")\n",
    "print(f\"The root mean squared error is {RMSE}\")"
   ]
  },
  {
   "cell_type": "markdown",
   "id": "e584b1a3",
   "metadata": {},
   "source": [
    "## KNN MODEL"
   ]
  },
  {
   "cell_type": "code",
   "execution_count": 106,
   "id": "09dcc53f",
   "metadata": {},
   "outputs": [
    {
     "name": "stdout",
     "output_type": "stream",
     "text": [
      "The mean absolute error is 0.4842703921758483\n",
      "The mean squared error is 1.379684125442311\n",
      "The root mean squared error is 1.174599559612684\n"
     ]
    }
   ],
   "source": [
    "from sklearn.neighbors import KNeighborsRegressor\n",
    "best_knn = KNeighborsRegressor(weights= 'distance', p= 1, n_neighbors= 5)\n",
    "best_knn.fit(X_train,y_train)\n",
    "\n",
    "y_test_pred = best_knn.predict(X_test)\n",
    "MSE = mean_squared_error(y_test, y_test_pred)\n",
    "MAE =  mean_absolute_error(y_test, y_test_pred)\n",
    "RMSE = MSE**0.5\n",
    "\n",
    "print(f\"The mean absolute error is {MAE}\")\n",
    "print(f\"The mean squared error is {MSE}\")\n",
    "print(f\"The root mean squared error is {RMSE}\")"
   ]
  },
  {
   "cell_type": "markdown",
   "id": "00859cbd",
   "metadata": {},
   "source": [
    "## DECISION TREE"
   ]
  },
  {
   "cell_type": "code",
   "execution_count": 107,
   "id": "d5dc22bf",
   "metadata": {},
   "outputs": [
    {
     "name": "stdout",
     "output_type": "stream",
     "text": [
      "The mean absolute error is 0.60070382083274\n",
      "The mean squared error is 1.7575843116915864\n",
      "The root mean squared error is 1.325739156731665\n"
     ]
    }
   ],
   "source": [
    "from sklearn.tree import DecisionTreeRegressor\n",
    "best_dtr = DecisionTreeRegressor(splitter='best', min_samples_split= 4, min_samples_leaf= 5, \n",
    "                                 max_features= 'auto', max_depth= 12)\n",
    "best_dtr.fit(X_train,y_train)\n",
    "\n",
    "y_test_pred = best_dtr.predict(X_test)\n",
    "MSE = mean_squared_error(y_test, y_test_pred)\n",
    "MAE =  mean_absolute_error(y_test, y_test_pred)\n",
    "RMSE = MSE**0.5\n",
    "\n",
    "print(f\"The mean absolute error is {MAE}\")\n",
    "print(f\"The mean squared error is {MSE}\")\n",
    "print(f\"The root mean squared error is {RMSE}\")"
   ]
  },
  {
   "cell_type": "markdown",
   "id": "e9a95866",
   "metadata": {},
   "source": [
    "## RANDOM FOREST"
   ]
  },
  {
   "cell_type": "code",
   "execution_count": 108,
   "id": "e126f222",
   "metadata": {},
   "outputs": [
    {
     "name": "stdout",
     "output_type": "stream",
     "text": [
      "The mean absolute error is 0.4920644178865737\n",
      "The mean squared error is 1.2189169507408322\n",
      "The root mean squared error is 1.1040457194975362\n"
     ]
    }
   ],
   "source": [
    "from sklearn.ensemble import RandomForestRegressor\n",
    "best_rf = RandomForestRegressor(n_estimators= 300, max_features= 'log2', max_depth= 22,bootstrap=True)\n",
    "best_rf.fit(X_train,y_train)\n",
    "\n",
    "y_test_pred = best_rf.predict(X_test)\n",
    "MSE = mean_squared_error(y_test, y_test_pred)\n",
    "MAE =  mean_absolute_error(y_test, y_test_pred)\n",
    "RMSE = MSE**0.5\n",
    "\n",
    "print(f\"The mean absolute error is {MAE}\")\n",
    "print(f\"The mean squared error is {MSE}\")\n",
    "print(f\"The root mean squared error is {RMSE}\")"
   ]
  },
  {
   "cell_type": "markdown",
   "id": "6fc5cbe2",
   "metadata": {},
   "source": [
    "## SVM-LINEAR"
   ]
  },
  {
   "cell_type": "code",
   "execution_count": 109,
   "id": "a12ea139",
   "metadata": {},
   "outputs": [
    {
     "name": "stdout",
     "output_type": "stream",
     "text": [
      "The mean squared error is 2.5737842956357158\n",
      "The mean absolute error is 0.7939728648919845\n",
      "The root mean squared error is 1.6043018093973826\n"
     ]
    }
   ],
   "source": [
    "from sklearn.svm import SVR\n",
    "best_svm_linear = SVR(kernel=\"linear\")\n",
    "best_svm_linear.fit(X_train,y_train)\n",
    "\n",
    "y_test_pred = best_svm_linear.predict(X_test)\n",
    "MSE = mean_squared_error(y_test, y_test_pred)\n",
    "MAE =  mean_absolute_error(y_test, y_test_pred)\n",
    "RMSE = MSE**0.5\n",
    "\n",
    "print(f\"The mean squared error is {MSE}\")\n",
    "print(f\"The mean absolute error is {MAE}\")\n",
    "print(f\"The root mean squared error is {RMSE}\")"
   ]
  },
  {
   "cell_type": "markdown",
   "id": "3366d5fc",
   "metadata": {},
   "source": [
    "## SVM- NON LINEAR"
   ]
  },
  {
   "cell_type": "code",
   "execution_count": 110,
   "id": "97be8123",
   "metadata": {},
   "outputs": [
    {
     "name": "stdout",
     "output_type": "stream",
     "text": [
      "The mean squared error is 1.8085743911049819\n",
      "The mean absolute error is 0.579575622468902\n",
      "The root mean squared error is 1.3448324769669202\n"
     ]
    }
   ],
   "source": [
    "best_svm_non_linear = SVR(kernel=\"rbf\")\n",
    "best_svm_non_linear.fit(X_train,y_train)\n",
    "\n",
    "y_test_pred = best_svm_non_linear.predict(X_test)\n",
    "MSE = mean_squared_error(y_test, y_test_pred)\n",
    "MAE =  mean_absolute_error(y_test, y_test_pred)\n",
    "RMSE = MSE**0.5\n",
    "print(f\"The mean squared error is {MSE}\")\n",
    "print(f\"The mean absolute error is {MAE}\")\n",
    "print(f\"The root mean squared error is {RMSE}\")"
   ]
  },
  {
   "cell_type": "markdown",
   "id": "2e0126df",
   "metadata": {},
   "source": [
    "# Ensembling the models and implemeting using Voting Regressor"
   ]
  },
  {
   "cell_type": "code",
   "execution_count": 111,
   "id": "d1c48b79",
   "metadata": {},
   "outputs": [],
   "source": [
    "model_1 = LinearRegression()\n",
    "\n",
    "model_2 = KNeighborsRegressor()\n",
    "\n",
    "model_3 = DecisionTreeRegressor()\n",
    "\n",
    "model_4 = RandomForestRegressor()\n",
    "\n",
    "model_5 = SVR(kernel=\"linear\")\n",
    "\n",
    "model_6 = SVR(kernel=\"rbf\")\n",
    "\n",
    "model_7 = LinearRegression(copy_X= True, fit_intercept= True)\n",
    "\n",
    "model_8 = KNeighborsRegressor(weights= 'distance', p= 1, n_neighbors= 5)\n",
    "\n",
    "model_9 = DecisionTreeRegressor(splitter='best', min_samples_split= 4, min_samples_leaf= 5, \n",
    "                                 max_features= 'auto', max_depth= 12)\n",
    "\n",
    "model_10 = RandomForestRegressor(n_estimators= 300, max_features= 'log2', max_depth= 22,bootstrap=True)\n",
    "\n",
    "model_11 = SVR(kernel=\"linear\")\n",
    "\n",
    "model_12 = SVR(kernel=\"rbf\",C=10,degree=1)"
   ]
  },
  {
   "cell_type": "code",
   "execution_count": 112,
   "id": "308f5373",
   "metadata": {},
   "outputs": [],
   "source": [
    "# Ensemble regression\n",
    "from sklearn.ensemble import VotingRegressor\n",
    "\n",
    "en_reg = VotingRegressor(estimators=[('lr', model_1),('knn', model_2),('dr', model_3),('rf', model_4),\n",
    "                                     ('svr',model_5),('svnr',model_6),('lr_1',model_7),('knn_1',model_8),\n",
    "                                     ('dr_1',model_9),('rf_1',model_10),('svr_1',model_11),('svr_2',model_12)])\n",
    "en_reg = en_reg.fit(X_train,y_train)\n",
    "\n"
   ]
  },
  {
   "cell_type": "code",
   "execution_count": 113,
   "id": "d59a0542",
   "metadata": {},
   "outputs": [
    {
     "data": {
      "text/plain": [
       "0.7326613340314887"
      ]
     },
     "execution_count": 113,
     "metadata": {},
     "output_type": "execute_result"
    }
   ],
   "source": [
    "en_reg.score(X_test, y_test)"
   ]
  },
  {
   "cell_type": "code",
   "execution_count": 114,
   "id": "b04ff116",
   "metadata": {},
   "outputs": [
    {
     "name": "stdout",
     "output_type": "stream",
     "text": [
      "The mean absolute error is 0.5507993057797654\n",
      "The mean squared error is 1.4536905936940459\n",
      "The root mean squared error is 1.2056909196365566\n"
     ]
    }
   ],
   "source": [
    "# Ensemble model on test data\n",
    "y_test_pred = en_reg.predict(X_test)\n",
    "MSE = mean_squared_error(y_test_pred, y_test)\n",
    "MAE =  mean_absolute_error(y_test_pred, y_test)\n",
    "RMSE = MSE**0.5\n",
    "\n",
    "print(f\"The mean absolute error is {MAE}\")\n",
    "print(f\"The mean squared error is {MSE}\")\n",
    "print(f\"The root mean squared error is {RMSE}\")"
   ]
  },
  {
   "cell_type": "code",
   "execution_count": 115,
   "id": "18ea687b",
   "metadata": {},
   "outputs": [
    {
     "name": "stdout",
     "output_type": "stream",
     "text": [
      "+-------------------+---------+---------+----------+------------+\n",
      "| Model             |     MSE |    RMSE |      MAE |   R2_Score |\n",
      "|-------------------+---------+---------+----------+------------|\n",
      "| Linear Regression | 2.38015 | 1.54277 | 0.83508  |   0.562282 |\n",
      "| KNN               | 1.37968 | 1.1746  | 0.48427  |   0.746271 |\n",
      "| Decision Tree     | 1.75758 | 1.32574 | 0.600704 |   0.676774 |\n",
      "| Random Forest     | 1.21892 | 1.10405 | 0.492064 |   0.775837 |\n",
      "| SVM Linear        | 2.57378 | 1.6043  | 0.793973 |   0.526672 |\n",
      "| SVM Non Linear    | 1.80857 | 1.34483 | 0.579576 |   0.667397 |\n",
      "| Ensemble model    | 1.45369 | 1.20569 | 0.550799 |   0.732661 |\n",
      "+-------------------+---------+---------+----------+------------+\n"
     ]
    }
   ],
   "source": [
    "from tabulate import tabulate\n",
    "\n",
    "def metrics(name,x_train,y_test,pred):\n",
    "    MSE=mean_squared_error(y_test,pred)\n",
    "    RMSE=np.sqrt(mean_squared_error(y_test,pred))\n",
    "    MAE = mean_absolute_error(y_test,pred)\n",
    "    R2_Score=r2_score(y_test,pred)\n",
    "    return [name,MSE,RMSE,MAE,R2_Score]\n",
    "\n",
    "\n",
    "header = [\"Model\", \"MSE\",\"RMSE\",\"MAE\",\"R2_Score\"]\n",
    "data=[]\n",
    "data.append(metrics(\"Linear Regression\",X_train,y_test,best_linear.predict(X_test)))\n",
    "data.append(metrics(\"KNN\",X_train,y_test,best_knn.predict(X_test)))\n",
    "data.append(metrics(\"Decision Tree\",X_train,y_test,best_dtr.predict(X_test)))\n",
    "data.append(metrics(\"Random Forest\",X_train,y_test,best_rf.predict(X_test)))\n",
    "data.append(metrics(\"SVM Linear\",X_train,y_test,best_svm_linear.predict(X_test)))\n",
    "data.append(metrics(\"SVM Non Linear\",X_train,y_test,best_svm_non_linear.predict(X_test)))\n",
    "data.append(metrics(\"Ensemble model\",X_train,y_test,en_reg.predict(X_test)))\n",
    "\n",
    "print(tabulate(data, headers=header, tablefmt=\"psql\"))"
   ]
  }
 ],
 "metadata": {
  "kernelspec": {
   "display_name": "Python 3 (ipykernel)",
   "language": "python",
   "name": "python3"
  },
  "language_info": {
   "codemirror_mode": {
    "name": "ipython",
    "version": 3
   },
   "file_extension": ".py",
   "mimetype": "text/x-python",
   "name": "python",
   "nbconvert_exporter": "python",
   "pygments_lexer": "ipython3",
   "version": "3.9.13"
  }
 },
 "nbformat": 4,
 "nbformat_minor": 5
}
