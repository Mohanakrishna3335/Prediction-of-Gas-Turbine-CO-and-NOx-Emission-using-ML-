{
 "cells": [
  {
   "cell_type": "code",
   "execution_count": 54,
   "id": "c8b4cdfe",
   "metadata": {},
   "outputs": [],
   "source": [
    "import numpy as np\n",
    "import pandas as pd"
   ]
  },
  {
   "cell_type": "code",
   "execution_count": 55,
   "id": "42f8e82f",
   "metadata": {},
   "outputs": [
    {
     "data": {
      "text/html": [
       "<div>\n",
       "<style scoped>\n",
       "    .dataframe tbody tr th:only-of-type {\n",
       "        vertical-align: middle;\n",
       "    }\n",
       "\n",
       "    .dataframe tbody tr th {\n",
       "        vertical-align: top;\n",
       "    }\n",
       "\n",
       "    .dataframe thead th {\n",
       "        text-align: right;\n",
       "    }\n",
       "</style>\n",
       "<table border=\"1\" class=\"dataframe\">\n",
       "  <thead>\n",
       "    <tr style=\"text-align: right;\">\n",
       "      <th></th>\n",
       "      <th>AT</th>\n",
       "      <th>AP</th>\n",
       "      <th>AH</th>\n",
       "      <th>AFDP</th>\n",
       "      <th>GTEP</th>\n",
       "      <th>TIT</th>\n",
       "      <th>TAT</th>\n",
       "      <th>TEY</th>\n",
       "      <th>CDP</th>\n",
       "      <th>CO</th>\n",
       "      <th>NOX</th>\n",
       "    </tr>\n",
       "  </thead>\n",
       "  <tbody>\n",
       "    <tr>\n",
       "      <th>0</th>\n",
       "      <td>4.5878</td>\n",
       "      <td>1018.7</td>\n",
       "      <td>83.675</td>\n",
       "      <td>3.5758</td>\n",
       "      <td>23.979</td>\n",
       "      <td>1086.2</td>\n",
       "      <td>549.83</td>\n",
       "      <td>134.67</td>\n",
       "      <td>11.898</td>\n",
       "      <td>0.32663</td>\n",
       "      <td>81.952</td>\n",
       "    </tr>\n",
       "    <tr>\n",
       "      <th>1</th>\n",
       "      <td>4.2932</td>\n",
       "      <td>1018.3</td>\n",
       "      <td>84.235</td>\n",
       "      <td>3.5709</td>\n",
       "      <td>23.951</td>\n",
       "      <td>1086.1</td>\n",
       "      <td>550.05</td>\n",
       "      <td>134.67</td>\n",
       "      <td>11.892</td>\n",
       "      <td>0.44784</td>\n",
       "      <td>82.377</td>\n",
       "    </tr>\n",
       "    <tr>\n",
       "      <th>2</th>\n",
       "      <td>3.9045</td>\n",
       "      <td>1018.4</td>\n",
       "      <td>84.858</td>\n",
       "      <td>3.5828</td>\n",
       "      <td>23.990</td>\n",
       "      <td>1086.5</td>\n",
       "      <td>550.19</td>\n",
       "      <td>135.10</td>\n",
       "      <td>12.042</td>\n",
       "      <td>0.45144</td>\n",
       "      <td>83.776</td>\n",
       "    </tr>\n",
       "    <tr>\n",
       "      <th>3</th>\n",
       "      <td>3.7436</td>\n",
       "      <td>1018.3</td>\n",
       "      <td>85.434</td>\n",
       "      <td>3.5808</td>\n",
       "      <td>23.911</td>\n",
       "      <td>1086.5</td>\n",
       "      <td>550.17</td>\n",
       "      <td>135.03</td>\n",
       "      <td>11.990</td>\n",
       "      <td>0.23107</td>\n",
       "      <td>82.505</td>\n",
       "    </tr>\n",
       "    <tr>\n",
       "      <th>4</th>\n",
       "      <td>3.7516</td>\n",
       "      <td>1017.8</td>\n",
       "      <td>85.182</td>\n",
       "      <td>3.5781</td>\n",
       "      <td>23.917</td>\n",
       "      <td>1085.9</td>\n",
       "      <td>550.00</td>\n",
       "      <td>134.67</td>\n",
       "      <td>11.910</td>\n",
       "      <td>0.26747</td>\n",
       "      <td>82.028</td>\n",
       "    </tr>\n",
       "    <tr>\n",
       "      <th>...</th>\n",
       "      <td>...</td>\n",
       "      <td>...</td>\n",
       "      <td>...</td>\n",
       "      <td>...</td>\n",
       "      <td>...</td>\n",
       "      <td>...</td>\n",
       "      <td>...</td>\n",
       "      <td>...</td>\n",
       "      <td>...</td>\n",
       "      <td>...</td>\n",
       "      <td>...</td>\n",
       "    </tr>\n",
       "    <tr>\n",
       "      <th>36728</th>\n",
       "      <td>3.6268</td>\n",
       "      <td>1028.5</td>\n",
       "      <td>93.200</td>\n",
       "      <td>3.1661</td>\n",
       "      <td>19.087</td>\n",
       "      <td>1037.0</td>\n",
       "      <td>541.59</td>\n",
       "      <td>109.08</td>\n",
       "      <td>10.411</td>\n",
       "      <td>10.99300</td>\n",
       "      <td>89.172</td>\n",
       "    </tr>\n",
       "    <tr>\n",
       "      <th>36729</th>\n",
       "      <td>4.1674</td>\n",
       "      <td>1028.6</td>\n",
       "      <td>94.036</td>\n",
       "      <td>3.1923</td>\n",
       "      <td>19.016</td>\n",
       "      <td>1037.6</td>\n",
       "      <td>542.28</td>\n",
       "      <td>108.79</td>\n",
       "      <td>10.344</td>\n",
       "      <td>11.14400</td>\n",
       "      <td>88.849</td>\n",
       "    </tr>\n",
       "    <tr>\n",
       "      <th>36730</th>\n",
       "      <td>5.4820</td>\n",
       "      <td>1028.5</td>\n",
       "      <td>95.219</td>\n",
       "      <td>3.3128</td>\n",
       "      <td>18.857</td>\n",
       "      <td>1038.0</td>\n",
       "      <td>543.48</td>\n",
       "      <td>107.81</td>\n",
       "      <td>10.462</td>\n",
       "      <td>11.41400</td>\n",
       "      <td>96.147</td>\n",
       "    </tr>\n",
       "    <tr>\n",
       "      <th>36731</th>\n",
       "      <td>5.8837</td>\n",
       "      <td>1028.7</td>\n",
       "      <td>94.200</td>\n",
       "      <td>3.9831</td>\n",
       "      <td>23.563</td>\n",
       "      <td>1076.9</td>\n",
       "      <td>550.11</td>\n",
       "      <td>131.41</td>\n",
       "      <td>11.771</td>\n",
       "      <td>3.31340</td>\n",
       "      <td>64.738</td>\n",
       "    </tr>\n",
       "    <tr>\n",
       "      <th>36732</th>\n",
       "      <td>6.0392</td>\n",
       "      <td>1028.8</td>\n",
       "      <td>94.547</td>\n",
       "      <td>3.8752</td>\n",
       "      <td>22.524</td>\n",
       "      <td>1067.9</td>\n",
       "      <td>548.23</td>\n",
       "      <td>125.41</td>\n",
       "      <td>11.462</td>\n",
       "      <td>11.98100</td>\n",
       "      <td>109.240</td>\n",
       "    </tr>\n",
       "  </tbody>\n",
       "</table>\n",
       "<p>36733 rows × 11 columns</p>\n",
       "</div>"
      ],
      "text/plain": [
       "           AT      AP      AH    AFDP    GTEP     TIT     TAT     TEY     CDP  \\\n",
       "0      4.5878  1018.7  83.675  3.5758  23.979  1086.2  549.83  134.67  11.898   \n",
       "1      4.2932  1018.3  84.235  3.5709  23.951  1086.1  550.05  134.67  11.892   \n",
       "2      3.9045  1018.4  84.858  3.5828  23.990  1086.5  550.19  135.10  12.042   \n",
       "3      3.7436  1018.3  85.434  3.5808  23.911  1086.5  550.17  135.03  11.990   \n",
       "4      3.7516  1017.8  85.182  3.5781  23.917  1085.9  550.00  134.67  11.910   \n",
       "...       ...     ...     ...     ...     ...     ...     ...     ...     ...   \n",
       "36728  3.6268  1028.5  93.200  3.1661  19.087  1037.0  541.59  109.08  10.411   \n",
       "36729  4.1674  1028.6  94.036  3.1923  19.016  1037.6  542.28  108.79  10.344   \n",
       "36730  5.4820  1028.5  95.219  3.3128  18.857  1038.0  543.48  107.81  10.462   \n",
       "36731  5.8837  1028.7  94.200  3.9831  23.563  1076.9  550.11  131.41  11.771   \n",
       "36732  6.0392  1028.8  94.547  3.8752  22.524  1067.9  548.23  125.41  11.462   \n",
       "\n",
       "             CO      NOX  \n",
       "0       0.32663   81.952  \n",
       "1       0.44784   82.377  \n",
       "2       0.45144   83.776  \n",
       "3       0.23107   82.505  \n",
       "4       0.26747   82.028  \n",
       "...         ...      ...  \n",
       "36728  10.99300   89.172  \n",
       "36729  11.14400   88.849  \n",
       "36730  11.41400   96.147  \n",
       "36731   3.31340   64.738  \n",
       "36732  11.98100  109.240  \n",
       "\n",
       "[36733 rows x 11 columns]"
      ]
     },
     "execution_count": 55,
     "metadata": {},
     "output_type": "execute_result"
    }
   ],
   "source": [
    "df = pd.read_csv(\"Group_13_data_cleaned.csv\")\n",
    "df"
   ]
  },
  {
   "cell_type": "code",
   "execution_count": 56,
   "id": "c95289e3",
   "metadata": {},
   "outputs": [],
   "source": [
    "# the data for the model\n",
    "# selecting only NOX as target variable\n",
    "nox_df = df.copy()\n",
    "nox_df = nox_df.drop(\"CO\", axis = 1) # drop the target variable CO"
   ]
  },
  {
   "cell_type": "code",
   "execution_count": 57,
   "id": "8fbef294",
   "metadata": {},
   "outputs": [
    {
     "data": {
      "text/html": [
       "<div>\n",
       "<style scoped>\n",
       "    .dataframe tbody tr th:only-of-type {\n",
       "        vertical-align: middle;\n",
       "    }\n",
       "\n",
       "    .dataframe tbody tr th {\n",
       "        vertical-align: top;\n",
       "    }\n",
       "\n",
       "    .dataframe thead th {\n",
       "        text-align: right;\n",
       "    }\n",
       "</style>\n",
       "<table border=\"1\" class=\"dataframe\">\n",
       "  <thead>\n",
       "    <tr style=\"text-align: right;\">\n",
       "      <th></th>\n",
       "      <th>AT</th>\n",
       "      <th>AP</th>\n",
       "      <th>AH</th>\n",
       "      <th>AFDP</th>\n",
       "      <th>GTEP</th>\n",
       "      <th>TIT</th>\n",
       "      <th>TAT</th>\n",
       "      <th>TEY</th>\n",
       "      <th>CDP</th>\n",
       "      <th>NOX</th>\n",
       "    </tr>\n",
       "  </thead>\n",
       "  <tbody>\n",
       "    <tr>\n",
       "      <th>0</th>\n",
       "      <td>4.5878</td>\n",
       "      <td>1018.7</td>\n",
       "      <td>83.675</td>\n",
       "      <td>3.5758</td>\n",
       "      <td>23.979</td>\n",
       "      <td>1086.2</td>\n",
       "      <td>549.83</td>\n",
       "      <td>134.67</td>\n",
       "      <td>11.898</td>\n",
       "      <td>81.952</td>\n",
       "    </tr>\n",
       "    <tr>\n",
       "      <th>1</th>\n",
       "      <td>4.2932</td>\n",
       "      <td>1018.3</td>\n",
       "      <td>84.235</td>\n",
       "      <td>3.5709</td>\n",
       "      <td>23.951</td>\n",
       "      <td>1086.1</td>\n",
       "      <td>550.05</td>\n",
       "      <td>134.67</td>\n",
       "      <td>11.892</td>\n",
       "      <td>82.377</td>\n",
       "    </tr>\n",
       "    <tr>\n",
       "      <th>2</th>\n",
       "      <td>3.9045</td>\n",
       "      <td>1018.4</td>\n",
       "      <td>84.858</td>\n",
       "      <td>3.5828</td>\n",
       "      <td>23.990</td>\n",
       "      <td>1086.5</td>\n",
       "      <td>550.19</td>\n",
       "      <td>135.10</td>\n",
       "      <td>12.042</td>\n",
       "      <td>83.776</td>\n",
       "    </tr>\n",
       "    <tr>\n",
       "      <th>3</th>\n",
       "      <td>3.7436</td>\n",
       "      <td>1018.3</td>\n",
       "      <td>85.434</td>\n",
       "      <td>3.5808</td>\n",
       "      <td>23.911</td>\n",
       "      <td>1086.5</td>\n",
       "      <td>550.17</td>\n",
       "      <td>135.03</td>\n",
       "      <td>11.990</td>\n",
       "      <td>82.505</td>\n",
       "    </tr>\n",
       "    <tr>\n",
       "      <th>4</th>\n",
       "      <td>3.7516</td>\n",
       "      <td>1017.8</td>\n",
       "      <td>85.182</td>\n",
       "      <td>3.5781</td>\n",
       "      <td>23.917</td>\n",
       "      <td>1085.9</td>\n",
       "      <td>550.00</td>\n",
       "      <td>134.67</td>\n",
       "      <td>11.910</td>\n",
       "      <td>82.028</td>\n",
       "    </tr>\n",
       "    <tr>\n",
       "      <th>...</th>\n",
       "      <td>...</td>\n",
       "      <td>...</td>\n",
       "      <td>...</td>\n",
       "      <td>...</td>\n",
       "      <td>...</td>\n",
       "      <td>...</td>\n",
       "      <td>...</td>\n",
       "      <td>...</td>\n",
       "      <td>...</td>\n",
       "      <td>...</td>\n",
       "    </tr>\n",
       "    <tr>\n",
       "      <th>36728</th>\n",
       "      <td>3.6268</td>\n",
       "      <td>1028.5</td>\n",
       "      <td>93.200</td>\n",
       "      <td>3.1661</td>\n",
       "      <td>19.087</td>\n",
       "      <td>1037.0</td>\n",
       "      <td>541.59</td>\n",
       "      <td>109.08</td>\n",
       "      <td>10.411</td>\n",
       "      <td>89.172</td>\n",
       "    </tr>\n",
       "    <tr>\n",
       "      <th>36729</th>\n",
       "      <td>4.1674</td>\n",
       "      <td>1028.6</td>\n",
       "      <td>94.036</td>\n",
       "      <td>3.1923</td>\n",
       "      <td>19.016</td>\n",
       "      <td>1037.6</td>\n",
       "      <td>542.28</td>\n",
       "      <td>108.79</td>\n",
       "      <td>10.344</td>\n",
       "      <td>88.849</td>\n",
       "    </tr>\n",
       "    <tr>\n",
       "      <th>36730</th>\n",
       "      <td>5.4820</td>\n",
       "      <td>1028.5</td>\n",
       "      <td>95.219</td>\n",
       "      <td>3.3128</td>\n",
       "      <td>18.857</td>\n",
       "      <td>1038.0</td>\n",
       "      <td>543.48</td>\n",
       "      <td>107.81</td>\n",
       "      <td>10.462</td>\n",
       "      <td>96.147</td>\n",
       "    </tr>\n",
       "    <tr>\n",
       "      <th>36731</th>\n",
       "      <td>5.8837</td>\n",
       "      <td>1028.7</td>\n",
       "      <td>94.200</td>\n",
       "      <td>3.9831</td>\n",
       "      <td>23.563</td>\n",
       "      <td>1076.9</td>\n",
       "      <td>550.11</td>\n",
       "      <td>131.41</td>\n",
       "      <td>11.771</td>\n",
       "      <td>64.738</td>\n",
       "    </tr>\n",
       "    <tr>\n",
       "      <th>36732</th>\n",
       "      <td>6.0392</td>\n",
       "      <td>1028.8</td>\n",
       "      <td>94.547</td>\n",
       "      <td>3.8752</td>\n",
       "      <td>22.524</td>\n",
       "      <td>1067.9</td>\n",
       "      <td>548.23</td>\n",
       "      <td>125.41</td>\n",
       "      <td>11.462</td>\n",
       "      <td>109.240</td>\n",
       "    </tr>\n",
       "  </tbody>\n",
       "</table>\n",
       "<p>36733 rows × 10 columns</p>\n",
       "</div>"
      ],
      "text/plain": [
       "           AT      AP      AH    AFDP    GTEP     TIT     TAT     TEY     CDP  \\\n",
       "0      4.5878  1018.7  83.675  3.5758  23.979  1086.2  549.83  134.67  11.898   \n",
       "1      4.2932  1018.3  84.235  3.5709  23.951  1086.1  550.05  134.67  11.892   \n",
       "2      3.9045  1018.4  84.858  3.5828  23.990  1086.5  550.19  135.10  12.042   \n",
       "3      3.7436  1018.3  85.434  3.5808  23.911  1086.5  550.17  135.03  11.990   \n",
       "4      3.7516  1017.8  85.182  3.5781  23.917  1085.9  550.00  134.67  11.910   \n",
       "...       ...     ...     ...     ...     ...     ...     ...     ...     ...   \n",
       "36728  3.6268  1028.5  93.200  3.1661  19.087  1037.0  541.59  109.08  10.411   \n",
       "36729  4.1674  1028.6  94.036  3.1923  19.016  1037.6  542.28  108.79  10.344   \n",
       "36730  5.4820  1028.5  95.219  3.3128  18.857  1038.0  543.48  107.81  10.462   \n",
       "36731  5.8837  1028.7  94.200  3.9831  23.563  1076.9  550.11  131.41  11.771   \n",
       "36732  6.0392  1028.8  94.547  3.8752  22.524  1067.9  548.23  125.41  11.462   \n",
       "\n",
       "           NOX  \n",
       "0       81.952  \n",
       "1       82.377  \n",
       "2       83.776  \n",
       "3       82.505  \n",
       "4       82.028  \n",
       "...        ...  \n",
       "36728   89.172  \n",
       "36729   88.849  \n",
       "36730   96.147  \n",
       "36731   64.738  \n",
       "36732  109.240  \n",
       "\n",
       "[36733 rows x 10 columns]"
      ]
     },
     "execution_count": 57,
     "metadata": {},
     "output_type": "execute_result"
    }
   ],
   "source": [
    "nox_df"
   ]
  },
  {
   "cell_type": "code",
   "execution_count": 58,
   "id": "ebe956f1",
   "metadata": {},
   "outputs": [],
   "source": [
    "# split the data for training and test using sklearn train_test_split function \n",
    "from sklearn.model_selection import train_test_split\n",
    "\n",
    "# split the data \n",
    "X = nox_df.iloc[:, :-1]\n",
    "y = nox_df[\"NOX\"]"
   ]
  },
  {
   "cell_type": "code",
   "execution_count": 59,
   "id": "a6611ec2",
   "metadata": {},
   "outputs": [],
   "source": [
    "# Normalizing the X and y. \n",
    "# Feature scaling\n",
    "from sklearn.preprocessing import Normalizer\n",
    "X = nox_ds1 = Normalizer().fit_transform(X)\n",
    "\n",
    "X_train_full, X_test, y_train_full, y_test = train_test_split(X, y,  test_size = 0.2,random_state= 42, shuffle = True)\n",
    "\n",
    "X_train, X_valid, y_train, y_valid = train_test_split(X_train_full, y_train_full, test_size=0.25, random_state=42)"
   ]
  },
  {
   "cell_type": "code",
   "execution_count": 60,
   "id": "c325a1e4",
   "metadata": {},
   "outputs": [
    {
     "data": {
      "text/plain": [
       "((22039, 9), (7347, 9), (7347, 9))"
      ]
     },
     "execution_count": 60,
     "metadata": {},
     "output_type": "execute_result"
    }
   ],
   "source": [
    "X_train.shape,X_valid.shape,X_test.shape"
   ]
  },
  {
   "cell_type": "code",
   "execution_count": 61,
   "id": "ae711196",
   "metadata": {},
   "outputs": [
    {
     "data": {
      "text/plain": [
       "DecisionTreeRegressor()"
      ]
     },
     "execution_count": 61,
     "metadata": {},
     "output_type": "execute_result"
    }
   ],
   "source": [
    "from sklearn.tree import DecisionTreeRegressor\n",
    "from sklearn import tree\n",
    "dtree = tree.DecisionTreeRegressor()\n",
    "dtree.fit(X_train, y_train)"
   ]
  },
  {
   "cell_type": "code",
   "execution_count": 62,
   "id": "66370a2b",
   "metadata": {},
   "outputs": [
    {
     "data": {
      "text/plain": [
       "1.0"
      ]
     },
     "execution_count": 62,
     "metadata": {},
     "output_type": "execute_result"
    }
   ],
   "source": [
    "dtree.score(X_train,y_train)"
   ]
  },
  {
   "cell_type": "markdown",
   "id": "d8cd19b0",
   "metadata": {},
   "source": [
    "#### A decision tree score of 1 means that the model has made perfect predictions on the training data, achieving a 100% accuracy score.However, this does not necessarily mean that the model is good at generalizing to new data."
   ]
  },
  {
   "cell_type": "code",
   "execution_count": 63,
   "id": "577957c2",
   "metadata": {},
   "outputs": [
    {
     "data": {
      "text/plain": [
       "0.687147092175692"
      ]
     },
     "execution_count": 63,
     "metadata": {},
     "output_type": "execute_result"
    }
   ],
   "source": [
    "dtree.score(X_valid,y_valid)"
   ]
  },
  {
   "cell_type": "code",
   "execution_count": 64,
   "id": "9b9581eb",
   "metadata": {},
   "outputs": [
    {
     "name": "stdout",
     "output_type": "stream",
     "text": [
      "Validation Mean Absolute Error:  3.9766617667074997\n",
      "Validation Mean Squared Error:  41.93760373948551\n",
      "RMSE on the validation set: 6.475924933126195\n"
     ]
    }
   ],
   "source": [
    "from sklearn.metrics import mean_absolute_error,r2_score\n",
    "from sklearn.metrics import mean_squared_error\n",
    "from sklearn import metrics \n",
    "# make predictions on the validation set\n",
    "y_pred_valid = dtree.predict(X_valid)\n",
    "\n",
    "# calculate the MAE for the validation set\n",
    "mae_val = mean_absolute_error(y_valid, y_pred_valid)\n",
    "# calculate the MSE for the validation set\n",
    "mse_val = mean_squared_error(y_valid, y_pred_valid)\n",
    "\n",
    "print(\"Validation Mean Absolute Error: \", mae_val)\n",
    "print(\"Validation Mean Squared Error: \", mse_val)\n",
    "print(f\"RMSE on the validation set: {np.sqrt(mse_val)}\")"
   ]
  },
  {
   "cell_type": "code",
   "execution_count": 65,
   "id": "6c39f651",
   "metadata": {},
   "outputs": [
    {
     "data": {
      "text/plain": [
       "0.687147092175692"
      ]
     },
     "execution_count": 65,
     "metadata": {},
     "output_type": "execute_result"
    }
   ],
   "source": [
    "y_pred = dtree.predict(X_valid) \n",
    "r2_score(y_valid, y_pred)"
   ]
  },
  {
   "cell_type": "markdown",
   "id": "99a3e2b6",
   "metadata": {},
   "source": [
    "## Using GridSearchCV to select hyper-parameters"
   ]
  },
  {
   "cell_type": "code",
   "execution_count": 66,
   "id": "68050829",
   "metadata": {},
   "outputs": [],
   "source": [
    "from sklearn.model_selection import GridSearchCV, cross_val_score"
   ]
  },
  {
   "cell_type": "code",
   "execution_count": 67,
   "id": "bbdf1e17",
   "metadata": {},
   "outputs": [],
   "source": [
    "X_train, X_test, y_train, y_test = train_test_split(X, y,  test_size = 0.2,random_state= 42, shuffle = True)\n",
    "max_depth = range(1,100,10)\n",
    "grids_dtree = GridSearchCV(estimator = DecisionTreeRegressor(random_state=42),\n",
    "                  param_grid= {\n",
    "                                \"max_features\": ['auto', 'sqrt'],\n",
    "                                \"min_samples_split\" : [2, 5, 10],\n",
    "                                \"min_samples_leaf\" : [1, 2, 4],\n",
    "                                \"max_depth\" : max_depth},\n",
    "                  cv=5,\n",
    "                  scoring = 'r2')"
   ]
  },
  {
   "cell_type": "code",
   "execution_count": 68,
   "id": "e6da0698",
   "metadata": {},
   "outputs": [
    {
     "data": {
      "text/plain": [
       "GridSearchCV(cv=5, estimator=DecisionTreeRegressor(random_state=42),\n",
       "             param_grid={'max_depth': range(1, 100, 10),\n",
       "                         'max_features': ['auto', 'sqrt'],\n",
       "                         'min_samples_leaf': [1, 2, 4],\n",
       "                         'min_samples_split': [2, 5, 10]},\n",
       "             scoring='r2')"
      ]
     },
     "execution_count": 68,
     "metadata": {},
     "output_type": "execute_result"
    }
   ],
   "source": [
    "grids_dtree.fit(X_train, y_train)"
   ]
  },
  {
   "cell_type": "code",
   "execution_count": 69,
   "id": "2a4cbeb7",
   "metadata": {},
   "outputs": [
    {
     "data": {
      "text/plain": [
       "0.7428484632677824"
      ]
     },
     "execution_count": 69,
     "metadata": {},
     "output_type": "execute_result"
    }
   ],
   "source": [
    "grids_dtree.best_score_"
   ]
  },
  {
   "cell_type": "code",
   "execution_count": 70,
   "id": "5b2978d5",
   "metadata": {},
   "outputs": [
    {
     "data": {
      "text/plain": [
       "{'max_depth': 11,\n",
       " 'max_features': 'auto',\n",
       " 'min_samples_leaf': 2,\n",
       " 'min_samples_split': 10}"
      ]
     },
     "execution_count": 70,
     "metadata": {},
     "output_type": "execute_result"
    }
   ],
   "source": [
    "grids_dtree.best_params_"
   ]
  },
  {
   "cell_type": "code",
   "execution_count": 71,
   "id": "1a3846c9",
   "metadata": {},
   "outputs": [
    {
     "name": "stdout",
     "output_type": "stream",
     "text": [
      "Mean Absolute Error:  3.7705239697823183\n",
      "Mean Squared Error:  31.79030676459735\n",
      "RMSE : 5.63828934736391\n"
     ]
    }
   ],
   "source": [
    "# make predictions on the test set\n",
    "y_pred_test = grids_dtree.predict(X_test)\n",
    "\n",
    "# calculate the MAE for the test set\n",
    "mae_val = mean_absolute_error(y_test, y_pred_test)\n",
    "# calculate the MSE for the test set\n",
    "mse_val = mean_squared_error(y_test, y_pred_test)\n",
    "\n",
    "print(\"Mean Absolute Error: \", mae_val)\n",
    "print(\"Mean Squared Error: \", mse_val)\n",
    "print(f\"RMSE : {np.sqrt(mse_val)}\")\n"
   ]
  },
  {
   "cell_type": "code",
   "execution_count": 72,
   "id": "8b0100d0",
   "metadata": {},
   "outputs": [
    {
     "data": {
      "text/plain": [
       "0.7601017961187106"
      ]
     },
     "execution_count": 72,
     "metadata": {},
     "output_type": "execute_result"
    }
   ],
   "source": [
    "y_pred = grids_dtree.predict(X_test) \n",
    "r2_score(y_test, y_pred)"
   ]
  },
  {
   "cell_type": "markdown",
   "id": "a5e2413a",
   "metadata": {},
   "source": [
    "# FOR CO"
   ]
  },
  {
   "cell_type": "code",
   "execution_count": 80,
   "id": "ac20f9b0",
   "metadata": {},
   "outputs": [],
   "source": [
    "# prepare the data for the model\n",
    "# select the only CO as target variable\n",
    "co_df = df.copy()\n",
    "co_df = co_df.drop(\"NOX\", axis = 1) # drop the target variable CO"
   ]
  },
  {
   "cell_type": "code",
   "execution_count": 81,
   "id": "9edb34ec",
   "metadata": {},
   "outputs": [
    {
     "data": {
      "text/html": [
       "<div>\n",
       "<style scoped>\n",
       "    .dataframe tbody tr th:only-of-type {\n",
       "        vertical-align: middle;\n",
       "    }\n",
       "\n",
       "    .dataframe tbody tr th {\n",
       "        vertical-align: top;\n",
       "    }\n",
       "\n",
       "    .dataframe thead th {\n",
       "        text-align: right;\n",
       "    }\n",
       "</style>\n",
       "<table border=\"1\" class=\"dataframe\">\n",
       "  <thead>\n",
       "    <tr style=\"text-align: right;\">\n",
       "      <th></th>\n",
       "      <th>AT</th>\n",
       "      <th>AP</th>\n",
       "      <th>AH</th>\n",
       "      <th>AFDP</th>\n",
       "      <th>GTEP</th>\n",
       "      <th>TIT</th>\n",
       "      <th>TAT</th>\n",
       "      <th>TEY</th>\n",
       "      <th>CDP</th>\n",
       "      <th>CO</th>\n",
       "    </tr>\n",
       "  </thead>\n",
       "  <tbody>\n",
       "    <tr>\n",
       "      <th>0</th>\n",
       "      <td>4.5878</td>\n",
       "      <td>1018.7</td>\n",
       "      <td>83.675</td>\n",
       "      <td>3.5758</td>\n",
       "      <td>23.979</td>\n",
       "      <td>1086.2</td>\n",
       "      <td>549.83</td>\n",
       "      <td>134.67</td>\n",
       "      <td>11.898</td>\n",
       "      <td>0.32663</td>\n",
       "    </tr>\n",
       "    <tr>\n",
       "      <th>1</th>\n",
       "      <td>4.2932</td>\n",
       "      <td>1018.3</td>\n",
       "      <td>84.235</td>\n",
       "      <td>3.5709</td>\n",
       "      <td>23.951</td>\n",
       "      <td>1086.1</td>\n",
       "      <td>550.05</td>\n",
       "      <td>134.67</td>\n",
       "      <td>11.892</td>\n",
       "      <td>0.44784</td>\n",
       "    </tr>\n",
       "    <tr>\n",
       "      <th>2</th>\n",
       "      <td>3.9045</td>\n",
       "      <td>1018.4</td>\n",
       "      <td>84.858</td>\n",
       "      <td>3.5828</td>\n",
       "      <td>23.990</td>\n",
       "      <td>1086.5</td>\n",
       "      <td>550.19</td>\n",
       "      <td>135.10</td>\n",
       "      <td>12.042</td>\n",
       "      <td>0.45144</td>\n",
       "    </tr>\n",
       "    <tr>\n",
       "      <th>3</th>\n",
       "      <td>3.7436</td>\n",
       "      <td>1018.3</td>\n",
       "      <td>85.434</td>\n",
       "      <td>3.5808</td>\n",
       "      <td>23.911</td>\n",
       "      <td>1086.5</td>\n",
       "      <td>550.17</td>\n",
       "      <td>135.03</td>\n",
       "      <td>11.990</td>\n",
       "      <td>0.23107</td>\n",
       "    </tr>\n",
       "    <tr>\n",
       "      <th>4</th>\n",
       "      <td>3.7516</td>\n",
       "      <td>1017.8</td>\n",
       "      <td>85.182</td>\n",
       "      <td>3.5781</td>\n",
       "      <td>23.917</td>\n",
       "      <td>1085.9</td>\n",
       "      <td>550.00</td>\n",
       "      <td>134.67</td>\n",
       "      <td>11.910</td>\n",
       "      <td>0.26747</td>\n",
       "    </tr>\n",
       "    <tr>\n",
       "      <th>...</th>\n",
       "      <td>...</td>\n",
       "      <td>...</td>\n",
       "      <td>...</td>\n",
       "      <td>...</td>\n",
       "      <td>...</td>\n",
       "      <td>...</td>\n",
       "      <td>...</td>\n",
       "      <td>...</td>\n",
       "      <td>...</td>\n",
       "      <td>...</td>\n",
       "    </tr>\n",
       "    <tr>\n",
       "      <th>36728</th>\n",
       "      <td>3.6268</td>\n",
       "      <td>1028.5</td>\n",
       "      <td>93.200</td>\n",
       "      <td>3.1661</td>\n",
       "      <td>19.087</td>\n",
       "      <td>1037.0</td>\n",
       "      <td>541.59</td>\n",
       "      <td>109.08</td>\n",
       "      <td>10.411</td>\n",
       "      <td>10.99300</td>\n",
       "    </tr>\n",
       "    <tr>\n",
       "      <th>36729</th>\n",
       "      <td>4.1674</td>\n",
       "      <td>1028.6</td>\n",
       "      <td>94.036</td>\n",
       "      <td>3.1923</td>\n",
       "      <td>19.016</td>\n",
       "      <td>1037.6</td>\n",
       "      <td>542.28</td>\n",
       "      <td>108.79</td>\n",
       "      <td>10.344</td>\n",
       "      <td>11.14400</td>\n",
       "    </tr>\n",
       "    <tr>\n",
       "      <th>36730</th>\n",
       "      <td>5.4820</td>\n",
       "      <td>1028.5</td>\n",
       "      <td>95.219</td>\n",
       "      <td>3.3128</td>\n",
       "      <td>18.857</td>\n",
       "      <td>1038.0</td>\n",
       "      <td>543.48</td>\n",
       "      <td>107.81</td>\n",
       "      <td>10.462</td>\n",
       "      <td>11.41400</td>\n",
       "    </tr>\n",
       "    <tr>\n",
       "      <th>36731</th>\n",
       "      <td>5.8837</td>\n",
       "      <td>1028.7</td>\n",
       "      <td>94.200</td>\n",
       "      <td>3.9831</td>\n",
       "      <td>23.563</td>\n",
       "      <td>1076.9</td>\n",
       "      <td>550.11</td>\n",
       "      <td>131.41</td>\n",
       "      <td>11.771</td>\n",
       "      <td>3.31340</td>\n",
       "    </tr>\n",
       "    <tr>\n",
       "      <th>36732</th>\n",
       "      <td>6.0392</td>\n",
       "      <td>1028.8</td>\n",
       "      <td>94.547</td>\n",
       "      <td>3.8752</td>\n",
       "      <td>22.524</td>\n",
       "      <td>1067.9</td>\n",
       "      <td>548.23</td>\n",
       "      <td>125.41</td>\n",
       "      <td>11.462</td>\n",
       "      <td>11.98100</td>\n",
       "    </tr>\n",
       "  </tbody>\n",
       "</table>\n",
       "<p>36733 rows × 10 columns</p>\n",
       "</div>"
      ],
      "text/plain": [
       "           AT      AP      AH    AFDP    GTEP     TIT     TAT     TEY     CDP  \\\n",
       "0      4.5878  1018.7  83.675  3.5758  23.979  1086.2  549.83  134.67  11.898   \n",
       "1      4.2932  1018.3  84.235  3.5709  23.951  1086.1  550.05  134.67  11.892   \n",
       "2      3.9045  1018.4  84.858  3.5828  23.990  1086.5  550.19  135.10  12.042   \n",
       "3      3.7436  1018.3  85.434  3.5808  23.911  1086.5  550.17  135.03  11.990   \n",
       "4      3.7516  1017.8  85.182  3.5781  23.917  1085.9  550.00  134.67  11.910   \n",
       "...       ...     ...     ...     ...     ...     ...     ...     ...     ...   \n",
       "36728  3.6268  1028.5  93.200  3.1661  19.087  1037.0  541.59  109.08  10.411   \n",
       "36729  4.1674  1028.6  94.036  3.1923  19.016  1037.6  542.28  108.79  10.344   \n",
       "36730  5.4820  1028.5  95.219  3.3128  18.857  1038.0  543.48  107.81  10.462   \n",
       "36731  5.8837  1028.7  94.200  3.9831  23.563  1076.9  550.11  131.41  11.771   \n",
       "36732  6.0392  1028.8  94.547  3.8752  22.524  1067.9  548.23  125.41  11.462   \n",
       "\n",
       "             CO  \n",
       "0       0.32663  \n",
       "1       0.44784  \n",
       "2       0.45144  \n",
       "3       0.23107  \n",
       "4       0.26747  \n",
       "...         ...  \n",
       "36728  10.99300  \n",
       "36729  11.14400  \n",
       "36730  11.41400  \n",
       "36731   3.31340  \n",
       "36732  11.98100  \n",
       "\n",
       "[36733 rows x 10 columns]"
      ]
     },
     "execution_count": 81,
     "metadata": {},
     "output_type": "execute_result"
    }
   ],
   "source": [
    "co_df"
   ]
  },
  {
   "cell_type": "code",
   "execution_count": 82,
   "id": "0a7a909e",
   "metadata": {},
   "outputs": [],
   "source": [
    "# split the data for training and test using sklearn train_test_split function \n",
    "from sklearn.model_selection import train_test_split\n",
    "from sklearn.preprocessing import Normalizer\n",
    "\n",
    "# split the data \n",
    "X = co_df.iloc[:, :-1]\n",
    "y = co_df[\"CO\"]\n"
   ]
  },
  {
   "cell_type": "code",
   "execution_count": 83,
   "id": "f531d36f",
   "metadata": {},
   "outputs": [],
   "source": [
    "X = co_df1 = Normalizer().fit_transform(X)\n",
    "# normalize the data \n",
    "\n",
    "X_train_full, X_test, y_train_full, y_test = train_test_split(X, y,  test_size = 0.3,random_state= 42, shuffle = True)\n",
    "X_train, X_valid, y_train, y_valid = train_test_split(X_train_full, y_train_full, test_size=0.25, random_state=42)"
   ]
  },
  {
   "cell_type": "code",
   "execution_count": 84,
   "id": "b64c380c",
   "metadata": {},
   "outputs": [
    {
     "data": {
      "text/plain": [
       "DecisionTreeRegressor()"
      ]
     },
     "execution_count": 84,
     "metadata": {},
     "output_type": "execute_result"
    }
   ],
   "source": [
    "from sklearn.tree import DecisionTreeRegressor\n",
    "from sklearn import tree\n",
    "dtree = tree.DecisionTreeRegressor()\n",
    "dtree.fit(X_train, y_train)"
   ]
  },
  {
   "cell_type": "code",
   "execution_count": 85,
   "id": "1f74775f",
   "metadata": {},
   "outputs": [
    {
     "data": {
      "text/plain": [
       "1.0"
      ]
     },
     "execution_count": 85,
     "metadata": {},
     "output_type": "execute_result"
    }
   ],
   "source": [
    "dtree.score(X_train,y_train)"
   ]
  },
  {
   "cell_type": "code",
   "execution_count": 86,
   "id": "daf07a24",
   "metadata": {},
   "outputs": [
    {
     "data": {
      "text/plain": [
       "0.49686129860503747"
      ]
     },
     "execution_count": 86,
     "metadata": {},
     "output_type": "execute_result"
    }
   ],
   "source": [
    "dtree.score(X_valid,y_valid)"
   ]
  },
  {
   "cell_type": "code",
   "execution_count": 87,
   "id": "2fd5f774",
   "metadata": {},
   "outputs": [
    {
     "name": "stdout",
     "output_type": "stream",
     "text": [
      "Validation Mean Absolute Error:  0.724412214667911\n",
      "Validation Mean Squared Error:  2.9035623280210663\n",
      "RMSE on the validation set: 1.7039842511071124\n"
     ]
    }
   ],
   "source": [
    "# make predictions on the validation set\n",
    "y_pred_valid = dtree.predict(X_valid)\n",
    "\n",
    "# calculate the MAE for the validation set\n",
    "mae_val = mean_absolute_error(y_valid, y_pred_valid)\n",
    "# calculate the MSE for the validation set\n",
    "mse_val = mean_squared_error(y_valid, y_pred_valid)\n",
    "\n",
    "print(\"Validation Mean Absolute Error: \", mae_val)\n",
    "print(\"Validation Mean Squared Error: \", mse_val)\n",
    "print(f\"RMSE on the validation set: {np.sqrt(mse_val)}\")"
   ]
  },
  {
   "cell_type": "code",
   "execution_count": 88,
   "id": "51b13ce2",
   "metadata": {},
   "outputs": [
    {
     "data": {
      "text/plain": [
       "0.49686129860503747"
      ]
     },
     "execution_count": 88,
     "metadata": {},
     "output_type": "execute_result"
    }
   ],
   "source": [
    "y_pred = dtree.predict(X_valid)\n",
    "r2_score(y_valid,y_pred)"
   ]
  },
  {
   "cell_type": "code",
   "execution_count": 89,
   "id": "ba89152a",
   "metadata": {},
   "outputs": [],
   "source": [
    "from sklearn.model_selection import GridSearchCV, cross_val_score"
   ]
  },
  {
   "cell_type": "code",
   "execution_count": 90,
   "id": "9943fd28",
   "metadata": {},
   "outputs": [],
   "source": [
    "X_train, X_test, y_train, y_test = train_test_split(X, y, test_size = 0.2,random_state= 42, shuffle = True)\n",
    "max_depth = range(1,100,10)\n",
    "grids_dtree = GridSearchCV(estimator = DecisionTreeRegressor(random_state=42),\n",
    "                  param_grid= {\n",
    "                                \"max_features\": ['auto', 'sqrt'],\n",
    "                                \"min_samples_split\" : [2, 5, 10],\n",
    "                                \"min_samples_leaf\" : [1, 2, 4],\n",
    "                                \"max_depth\" : max_depth},\n",
    "                  cv=5,\n",
    "                  scoring = 'r2')"
   ]
  },
  {
   "cell_type": "code",
   "execution_count": 91,
   "id": "7d35eb4a",
   "metadata": {},
   "outputs": [
    {
     "data": {
      "text/plain": [
       "GridSearchCV(cv=5, estimator=DecisionTreeRegressor(random_state=42),\n",
       "             param_grid={'max_depth': range(1, 100, 10),\n",
       "                         'max_features': ['auto', 'sqrt'],\n",
       "                         'min_samples_leaf': [1, 2, 4],\n",
       "                         'min_samples_split': [2, 5, 10]},\n",
       "             scoring='r2')"
      ]
     },
     "execution_count": 91,
     "metadata": {},
     "output_type": "execute_result"
    }
   ],
   "source": [
    "grids_dtree.fit(X_train, y_train)"
   ]
  },
  {
   "cell_type": "code",
   "execution_count": 92,
   "id": "6fddc4e5",
   "metadata": {},
   "outputs": [
    {
     "data": {
      "text/plain": [
       "0.6218561649983074"
      ]
     },
     "execution_count": 92,
     "metadata": {},
     "output_type": "execute_result"
    }
   ],
   "source": [
    "grids_dtree.best_score_"
   ]
  },
  {
   "cell_type": "code",
   "execution_count": 93,
   "id": "751bf02c",
   "metadata": {},
   "outputs": [
    {
     "data": {
      "text/plain": [
       "{'max_depth': 11,\n",
       " 'max_features': 'auto',\n",
       " 'min_samples_leaf': 4,\n",
       " 'min_samples_split': 10}"
      ]
     },
     "execution_count": 93,
     "metadata": {},
     "output_type": "execute_result"
    }
   ],
   "source": [
    "grids_dtree.best_params_"
   ]
  },
  {
   "cell_type": "code",
   "execution_count": 94,
   "id": "512d74e8",
   "metadata": {},
   "outputs": [
    {
     "name": "stdout",
     "output_type": "stream",
     "text": [
      "Mean Absolute Error:  0.6391783059352071\n",
      "Mean Squared Error:  1.7560347184781873\n",
      "RMSE : 1.3251546017269786\n"
     ]
    }
   ],
   "source": [
    "# make predictions on the test set\n",
    "y_pred_test = grids_dtree.predict(X_test)\n",
    "\n",
    "# calculate the MAE for the test set\n",
    "mae_val = mean_absolute_error(y_test, y_pred_test)\n",
    "# calculate the MSE for the test set\n",
    "mse_val = mean_squared_error(y_test, y_pred_test)\n",
    "\n",
    "print(\"Mean Absolute Error: \", mae_val)\n",
    "print(\"Mean Squared Error: \", mse_val)\n",
    "print(f\"RMSE : {np.sqrt(mse_val)}\")\n"
   ]
  },
  {
   "cell_type": "code",
   "execution_count": 95,
   "id": "e6000f45",
   "metadata": {},
   "outputs": [
    {
     "data": {
      "text/plain": [
       "0.677059216680084"
      ]
     },
     "execution_count": 95,
     "metadata": {},
     "output_type": "execute_result"
    }
   ],
   "source": [
    "y_pred = grids_dtree.predict(X_test) \n",
    "r2_score(y_test, y_pred)"
   ]
  },
  {
   "cell_type": "code",
   "execution_count": null,
   "id": "e430334a",
   "metadata": {},
   "outputs": [],
   "source": []
  }
 ],
 "metadata": {
  "kernelspec": {
   "display_name": "Python 3 (ipykernel)",
   "language": "python",
   "name": "python3"
  },
  "language_info": {
   "codemirror_mode": {
    "name": "ipython",
    "version": 3
   },
   "file_extension": ".py",
   "mimetype": "text/x-python",
   "name": "python",
   "nbconvert_exporter": "python",
   "pygments_lexer": "ipython3",
   "version": "3.9.13"
  }
 },
 "nbformat": 4,
 "nbformat_minor": 5
}
