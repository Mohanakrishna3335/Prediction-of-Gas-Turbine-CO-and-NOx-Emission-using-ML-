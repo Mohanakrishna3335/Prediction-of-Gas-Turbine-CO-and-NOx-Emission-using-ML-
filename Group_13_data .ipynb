{
 "cells": [
  {
   "cell_type": "code",
   "execution_count": 340,
   "id": "b20e3c69",
   "metadata": {},
   "outputs": [],
   "source": [
    "import numpy as np\n",
    "import pandas as pd\n",
    "import matplotlib as plt\n",
    "import seaborn as sns"
   ]
  },
  {
   "cell_type": "code",
   "execution_count": 341,
   "id": "0dd235e2",
   "metadata": {},
   "outputs": [
    {
     "name": "stdout",
     "output_type": "stream",
     "text": [
      "           AT      AP      AH    AFDP    GTEP     TIT     TAT     TEY     CDP  \\\n",
      "0      4.5878  1018.7  83.675  3.5758  23.979  1086.2  549.83  134.67  11.898   \n",
      "1      4.2932  1018.3  84.235  3.5709  23.951  1086.1  550.05  134.67  11.892   \n",
      "2      3.9045  1018.4  84.858  3.5828  23.990  1086.5  550.19  135.10  12.042   \n",
      "3      3.7436  1018.3  85.434  3.5808  23.911  1086.5  550.17  135.03  11.990   \n",
      "4      3.7516  1017.8  85.182  3.5781  23.917  1085.9  550.00  134.67  11.910   \n",
      "...       ...     ...     ...     ...     ...     ...     ...     ...     ...   \n",
      "36728  3.6268  1028.5  93.200  3.1661  19.087  1037.0  541.59  109.08  10.411   \n",
      "36729  4.1674  1028.6  94.036  3.1923  19.016  1037.6  542.28  108.79  10.344   \n",
      "36730  5.4820  1028.5  95.219  3.3128  18.857  1038.0  543.48  107.81  10.462   \n",
      "36731  5.8837  1028.7  94.200  3.9831  23.563  1076.9  550.11  131.41  11.771   \n",
      "36732  6.0392  1028.8  94.547  3.8752  22.524  1067.9  548.23  125.41  11.462   \n",
      "\n",
      "             CO      NOX  \n",
      "0       0.32663   81.952  \n",
      "1       0.44784   82.377  \n",
      "2       0.45144   83.776  \n",
      "3       0.23107   82.505  \n",
      "4       0.26747   82.028  \n",
      "...         ...      ...  \n",
      "36728  10.99300   89.172  \n",
      "36729  11.14400   88.849  \n",
      "36730  11.41400   96.147  \n",
      "36731   3.31340   64.738  \n",
      "36732  11.98100  109.240  \n",
      "\n",
      "[36733 rows x 11 columns]\n"
     ]
    }
   ],
   "source": [
    "df = pd.concat(\n",
    "    map(pd.read_csv, ['gt_2011.csv','gt_2012.csv','gt_2013.csv','gt_2014.csv','gt_2015.csv']), ignore_index=True)\n",
    "print(df)"
   ]
  },
  {
   "cell_type": "code",
   "execution_count": 342,
   "id": "6fa97e1e",
   "metadata": {},
   "outputs": [],
   "source": [
    "# The path of desired dataset is saved in csv file format :\n",
    "df.to_csv('C:\\\\Users\\\\12142\\\\Documents\\\\Intro to DS\\\\Group_13_data.csv', index=False)\n"
   ]
  },
  {
   "cell_type": "code",
   "execution_count": 343,
   "id": "69b38e82",
   "metadata": {},
   "outputs": [],
   "source": [
    "# Reading the Gas turbine CO & NOx data set from csv file\n",
    "df = pd.read_csv('Group_13_data.csv')"
   ]
  },
  {
   "cell_type": "code",
   "execution_count": 344,
   "id": "a9d06f7d",
   "metadata": {
    "scrolled": true
   },
   "outputs": [
    {
     "data": {
      "text/html": [
       "<div>\n",
       "<style scoped>\n",
       "    .dataframe tbody tr th:only-of-type {\n",
       "        vertical-align: middle;\n",
       "    }\n",
       "\n",
       "    .dataframe tbody tr th {\n",
       "        vertical-align: top;\n",
       "    }\n",
       "\n",
       "    .dataframe thead th {\n",
       "        text-align: right;\n",
       "    }\n",
       "</style>\n",
       "<table border=\"1\" class=\"dataframe\">\n",
       "  <thead>\n",
       "    <tr style=\"text-align: right;\">\n",
       "      <th></th>\n",
       "      <th>AT</th>\n",
       "      <th>AP</th>\n",
       "      <th>AH</th>\n",
       "      <th>AFDP</th>\n",
       "      <th>GTEP</th>\n",
       "      <th>TIT</th>\n",
       "      <th>TAT</th>\n",
       "      <th>TEY</th>\n",
       "      <th>CDP</th>\n",
       "      <th>CO</th>\n",
       "      <th>NOX</th>\n",
       "    </tr>\n",
       "  </thead>\n",
       "  <tbody>\n",
       "    <tr>\n",
       "      <th>0</th>\n",
       "      <td>4.5878</td>\n",
       "      <td>1018.7</td>\n",
       "      <td>83.675</td>\n",
       "      <td>3.5758</td>\n",
       "      <td>23.979</td>\n",
       "      <td>1086.2</td>\n",
       "      <td>549.83</td>\n",
       "      <td>134.67</td>\n",
       "      <td>11.898</td>\n",
       "      <td>0.32663</td>\n",
       "      <td>81.952</td>\n",
       "    </tr>\n",
       "    <tr>\n",
       "      <th>1</th>\n",
       "      <td>4.2932</td>\n",
       "      <td>1018.3</td>\n",
       "      <td>84.235</td>\n",
       "      <td>3.5709</td>\n",
       "      <td>23.951</td>\n",
       "      <td>1086.1</td>\n",
       "      <td>550.05</td>\n",
       "      <td>134.67</td>\n",
       "      <td>11.892</td>\n",
       "      <td>0.44784</td>\n",
       "      <td>82.377</td>\n",
       "    </tr>\n",
       "    <tr>\n",
       "      <th>2</th>\n",
       "      <td>3.9045</td>\n",
       "      <td>1018.4</td>\n",
       "      <td>84.858</td>\n",
       "      <td>3.5828</td>\n",
       "      <td>23.990</td>\n",
       "      <td>1086.5</td>\n",
       "      <td>550.19</td>\n",
       "      <td>135.10</td>\n",
       "      <td>12.042</td>\n",
       "      <td>0.45144</td>\n",
       "      <td>83.776</td>\n",
       "    </tr>\n",
       "    <tr>\n",
       "      <th>3</th>\n",
       "      <td>3.7436</td>\n",
       "      <td>1018.3</td>\n",
       "      <td>85.434</td>\n",
       "      <td>3.5808</td>\n",
       "      <td>23.911</td>\n",
       "      <td>1086.5</td>\n",
       "      <td>550.17</td>\n",
       "      <td>135.03</td>\n",
       "      <td>11.990</td>\n",
       "      <td>0.23107</td>\n",
       "      <td>82.505</td>\n",
       "    </tr>\n",
       "    <tr>\n",
       "      <th>4</th>\n",
       "      <td>3.7516</td>\n",
       "      <td>1017.8</td>\n",
       "      <td>85.182</td>\n",
       "      <td>3.5781</td>\n",
       "      <td>23.917</td>\n",
       "      <td>1085.9</td>\n",
       "      <td>550.00</td>\n",
       "      <td>134.67</td>\n",
       "      <td>11.910</td>\n",
       "      <td>0.26747</td>\n",
       "      <td>82.028</td>\n",
       "    </tr>\n",
       "  </tbody>\n",
       "</table>\n",
       "</div>"
      ],
      "text/plain": [
       "       AT      AP      AH    AFDP    GTEP     TIT     TAT     TEY     CDP  \\\n",
       "0  4.5878  1018.7  83.675  3.5758  23.979  1086.2  549.83  134.67  11.898   \n",
       "1  4.2932  1018.3  84.235  3.5709  23.951  1086.1  550.05  134.67  11.892   \n",
       "2  3.9045  1018.4  84.858  3.5828  23.990  1086.5  550.19  135.10  12.042   \n",
       "3  3.7436  1018.3  85.434  3.5808  23.911  1086.5  550.17  135.03  11.990   \n",
       "4  3.7516  1017.8  85.182  3.5781  23.917  1085.9  550.00  134.67  11.910   \n",
       "\n",
       "        CO     NOX  \n",
       "0  0.32663  81.952  \n",
       "1  0.44784  82.377  \n",
       "2  0.45144  83.776  \n",
       "3  0.23107  82.505  \n",
       "4  0.26747  82.028  "
      ]
     },
     "execution_count": 344,
     "metadata": {},
     "output_type": "execute_result"
    }
   ],
   "source": [
    "df.head()"
   ]
  },
  {
   "cell_type": "code",
   "execution_count": 345,
   "id": "90780194",
   "metadata": {},
   "outputs": [
    {
     "data": {
      "text/html": [
       "<div>\n",
       "<style scoped>\n",
       "    .dataframe tbody tr th:only-of-type {\n",
       "        vertical-align: middle;\n",
       "    }\n",
       "\n",
       "    .dataframe tbody tr th {\n",
       "        vertical-align: top;\n",
       "    }\n",
       "\n",
       "    .dataframe thead th {\n",
       "        text-align: right;\n",
       "    }\n",
       "</style>\n",
       "<table border=\"1\" class=\"dataframe\">\n",
       "  <thead>\n",
       "    <tr style=\"text-align: right;\">\n",
       "      <th></th>\n",
       "      <th>AT</th>\n",
       "      <th>AP</th>\n",
       "      <th>AH</th>\n",
       "      <th>AFDP</th>\n",
       "      <th>GTEP</th>\n",
       "      <th>TIT</th>\n",
       "      <th>TAT</th>\n",
       "      <th>TEY</th>\n",
       "      <th>CDP</th>\n",
       "      <th>CO</th>\n",
       "      <th>NOX</th>\n",
       "    </tr>\n",
       "  </thead>\n",
       "  <tbody>\n",
       "    <tr>\n",
       "      <th>36728</th>\n",
       "      <td>3.6268</td>\n",
       "      <td>1028.5</td>\n",
       "      <td>93.200</td>\n",
       "      <td>3.1661</td>\n",
       "      <td>19.087</td>\n",
       "      <td>1037.0</td>\n",
       "      <td>541.59</td>\n",
       "      <td>109.08</td>\n",
       "      <td>10.411</td>\n",
       "      <td>10.9930</td>\n",
       "      <td>89.172</td>\n",
       "    </tr>\n",
       "    <tr>\n",
       "      <th>36729</th>\n",
       "      <td>4.1674</td>\n",
       "      <td>1028.6</td>\n",
       "      <td>94.036</td>\n",
       "      <td>3.1923</td>\n",
       "      <td>19.016</td>\n",
       "      <td>1037.6</td>\n",
       "      <td>542.28</td>\n",
       "      <td>108.79</td>\n",
       "      <td>10.344</td>\n",
       "      <td>11.1440</td>\n",
       "      <td>88.849</td>\n",
       "    </tr>\n",
       "    <tr>\n",
       "      <th>36730</th>\n",
       "      <td>5.4820</td>\n",
       "      <td>1028.5</td>\n",
       "      <td>95.219</td>\n",
       "      <td>3.3128</td>\n",
       "      <td>18.857</td>\n",
       "      <td>1038.0</td>\n",
       "      <td>543.48</td>\n",
       "      <td>107.81</td>\n",
       "      <td>10.462</td>\n",
       "      <td>11.4140</td>\n",
       "      <td>96.147</td>\n",
       "    </tr>\n",
       "    <tr>\n",
       "      <th>36731</th>\n",
       "      <td>5.8837</td>\n",
       "      <td>1028.7</td>\n",
       "      <td>94.200</td>\n",
       "      <td>3.9831</td>\n",
       "      <td>23.563</td>\n",
       "      <td>1076.9</td>\n",
       "      <td>550.11</td>\n",
       "      <td>131.41</td>\n",
       "      <td>11.771</td>\n",
       "      <td>3.3134</td>\n",
       "      <td>64.738</td>\n",
       "    </tr>\n",
       "    <tr>\n",
       "      <th>36732</th>\n",
       "      <td>6.0392</td>\n",
       "      <td>1028.8</td>\n",
       "      <td>94.547</td>\n",
       "      <td>3.8752</td>\n",
       "      <td>22.524</td>\n",
       "      <td>1067.9</td>\n",
       "      <td>548.23</td>\n",
       "      <td>125.41</td>\n",
       "      <td>11.462</td>\n",
       "      <td>11.9810</td>\n",
       "      <td>109.240</td>\n",
       "    </tr>\n",
       "  </tbody>\n",
       "</table>\n",
       "</div>"
      ],
      "text/plain": [
       "           AT      AP      AH    AFDP    GTEP     TIT     TAT     TEY     CDP  \\\n",
       "36728  3.6268  1028.5  93.200  3.1661  19.087  1037.0  541.59  109.08  10.411   \n",
       "36729  4.1674  1028.6  94.036  3.1923  19.016  1037.6  542.28  108.79  10.344   \n",
       "36730  5.4820  1028.5  95.219  3.3128  18.857  1038.0  543.48  107.81  10.462   \n",
       "36731  5.8837  1028.7  94.200  3.9831  23.563  1076.9  550.11  131.41  11.771   \n",
       "36732  6.0392  1028.8  94.547  3.8752  22.524  1067.9  548.23  125.41  11.462   \n",
       "\n",
       "            CO      NOX  \n",
       "36728  10.9930   89.172  \n",
       "36729  11.1440   88.849  \n",
       "36730  11.4140   96.147  \n",
       "36731   3.3134   64.738  \n",
       "36732  11.9810  109.240  "
      ]
     },
     "execution_count": 345,
     "metadata": {},
     "output_type": "execute_result"
    }
   ],
   "source": [
    "df.tail()"
   ]
  },
  {
   "cell_type": "code",
   "execution_count": 346,
   "id": "f9278d6f",
   "metadata": {},
   "outputs": [
    {
     "data": {
      "text/plain": [
       "(36733, 11)"
      ]
     },
     "execution_count": 346,
     "metadata": {},
     "output_type": "execute_result"
    }
   ],
   "source": [
    "df.shape"
   ]
  },
  {
   "cell_type": "code",
   "execution_count": 347,
   "id": "24f38943",
   "metadata": {
    "scrolled": true
   },
   "outputs": [
    {
     "data": {
      "text/html": [
       "<div>\n",
       "<style scoped>\n",
       "    .dataframe tbody tr th:only-of-type {\n",
       "        vertical-align: middle;\n",
       "    }\n",
       "\n",
       "    .dataframe tbody tr th {\n",
       "        vertical-align: top;\n",
       "    }\n",
       "\n",
       "    .dataframe thead th {\n",
       "        text-align: right;\n",
       "    }\n",
       "</style>\n",
       "<table border=\"1\" class=\"dataframe\">\n",
       "  <thead>\n",
       "    <tr style=\"text-align: right;\">\n",
       "      <th></th>\n",
       "      <th>AT</th>\n",
       "      <th>AP</th>\n",
       "      <th>AH</th>\n",
       "      <th>AFDP</th>\n",
       "      <th>GTEP</th>\n",
       "      <th>TIT</th>\n",
       "      <th>TAT</th>\n",
       "      <th>TEY</th>\n",
       "      <th>CDP</th>\n",
       "      <th>CO</th>\n",
       "      <th>NOX</th>\n",
       "    </tr>\n",
       "  </thead>\n",
       "  <tbody>\n",
       "    <tr>\n",
       "      <th>count</th>\n",
       "      <td>36733.000000</td>\n",
       "      <td>36733.000000</td>\n",
       "      <td>36733.000000</td>\n",
       "      <td>36733.000000</td>\n",
       "      <td>36733.000000</td>\n",
       "      <td>36733.000000</td>\n",
       "      <td>36733.000000</td>\n",
       "      <td>36733.000000</td>\n",
       "      <td>36733.000000</td>\n",
       "      <td>36733.000000</td>\n",
       "      <td>36733.000000</td>\n",
       "    </tr>\n",
       "    <tr>\n",
       "      <th>mean</th>\n",
       "      <td>17.712726</td>\n",
       "      <td>1013.070165</td>\n",
       "      <td>77.867015</td>\n",
       "      <td>3.925518</td>\n",
       "      <td>25.563801</td>\n",
       "      <td>1081.428084</td>\n",
       "      <td>546.158517</td>\n",
       "      <td>133.506404</td>\n",
       "      <td>12.060525</td>\n",
       "      <td>2.372468</td>\n",
       "      <td>65.293067</td>\n",
       "    </tr>\n",
       "    <tr>\n",
       "      <th>std</th>\n",
       "      <td>7.447451</td>\n",
       "      <td>6.463346</td>\n",
       "      <td>14.461355</td>\n",
       "      <td>0.773936</td>\n",
       "      <td>4.195957</td>\n",
       "      <td>17.536373</td>\n",
       "      <td>6.842360</td>\n",
       "      <td>15.618634</td>\n",
       "      <td>1.088795</td>\n",
       "      <td>2.262672</td>\n",
       "      <td>11.678357</td>\n",
       "    </tr>\n",
       "    <tr>\n",
       "      <th>min</th>\n",
       "      <td>-6.234800</td>\n",
       "      <td>985.850000</td>\n",
       "      <td>24.085000</td>\n",
       "      <td>2.087400</td>\n",
       "      <td>17.698000</td>\n",
       "      <td>1000.800000</td>\n",
       "      <td>511.040000</td>\n",
       "      <td>100.020000</td>\n",
       "      <td>9.851800</td>\n",
       "      <td>0.000388</td>\n",
       "      <td>25.905000</td>\n",
       "    </tr>\n",
       "    <tr>\n",
       "      <th>25%</th>\n",
       "      <td>11.781000</td>\n",
       "      <td>1008.800000</td>\n",
       "      <td>68.188000</td>\n",
       "      <td>3.355600</td>\n",
       "      <td>23.129000</td>\n",
       "      <td>1071.800000</td>\n",
       "      <td>544.720000</td>\n",
       "      <td>124.450000</td>\n",
       "      <td>11.435000</td>\n",
       "      <td>1.182400</td>\n",
       "      <td>57.162000</td>\n",
       "    </tr>\n",
       "    <tr>\n",
       "      <th>50%</th>\n",
       "      <td>17.801000</td>\n",
       "      <td>1012.600000</td>\n",
       "      <td>80.470000</td>\n",
       "      <td>3.937700</td>\n",
       "      <td>25.104000</td>\n",
       "      <td>1085.900000</td>\n",
       "      <td>549.880000</td>\n",
       "      <td>133.730000</td>\n",
       "      <td>11.965000</td>\n",
       "      <td>1.713500</td>\n",
       "      <td>63.849000</td>\n",
       "    </tr>\n",
       "    <tr>\n",
       "      <th>75%</th>\n",
       "      <td>23.665000</td>\n",
       "      <td>1017.000000</td>\n",
       "      <td>89.376000</td>\n",
       "      <td>4.376900</td>\n",
       "      <td>29.061000</td>\n",
       "      <td>1097.000000</td>\n",
       "      <td>550.040000</td>\n",
       "      <td>144.080000</td>\n",
       "      <td>12.855000</td>\n",
       "      <td>2.842900</td>\n",
       "      <td>71.548000</td>\n",
       "    </tr>\n",
       "    <tr>\n",
       "      <th>max</th>\n",
       "      <td>37.103000</td>\n",
       "      <td>1036.600000</td>\n",
       "      <td>100.200000</td>\n",
       "      <td>7.610600</td>\n",
       "      <td>40.716000</td>\n",
       "      <td>1100.900000</td>\n",
       "      <td>550.610000</td>\n",
       "      <td>179.500000</td>\n",
       "      <td>15.159000</td>\n",
       "      <td>44.103000</td>\n",
       "      <td>119.910000</td>\n",
       "    </tr>\n",
       "  </tbody>\n",
       "</table>\n",
       "</div>"
      ],
      "text/plain": [
       "                 AT            AP            AH          AFDP          GTEP  \\\n",
       "count  36733.000000  36733.000000  36733.000000  36733.000000  36733.000000   \n",
       "mean      17.712726   1013.070165     77.867015      3.925518     25.563801   \n",
       "std        7.447451      6.463346     14.461355      0.773936      4.195957   \n",
       "min       -6.234800    985.850000     24.085000      2.087400     17.698000   \n",
       "25%       11.781000   1008.800000     68.188000      3.355600     23.129000   \n",
       "50%       17.801000   1012.600000     80.470000      3.937700     25.104000   \n",
       "75%       23.665000   1017.000000     89.376000      4.376900     29.061000   \n",
       "max       37.103000   1036.600000    100.200000      7.610600     40.716000   \n",
       "\n",
       "                TIT           TAT           TEY           CDP            CO  \\\n",
       "count  36733.000000  36733.000000  36733.000000  36733.000000  36733.000000   \n",
       "mean    1081.428084    546.158517    133.506404     12.060525      2.372468   \n",
       "std       17.536373      6.842360     15.618634      1.088795      2.262672   \n",
       "min     1000.800000    511.040000    100.020000      9.851800      0.000388   \n",
       "25%     1071.800000    544.720000    124.450000     11.435000      1.182400   \n",
       "50%     1085.900000    549.880000    133.730000     11.965000      1.713500   \n",
       "75%     1097.000000    550.040000    144.080000     12.855000      2.842900   \n",
       "max     1100.900000    550.610000    179.500000     15.159000     44.103000   \n",
       "\n",
       "                NOX  \n",
       "count  36733.000000  \n",
       "mean      65.293067  \n",
       "std       11.678357  \n",
       "min       25.905000  \n",
       "25%       57.162000  \n",
       "50%       63.849000  \n",
       "75%       71.548000  \n",
       "max      119.910000  "
      ]
     },
     "execution_count": 347,
     "metadata": {},
     "output_type": "execute_result"
    }
   ],
   "source": [
    "df.describe()"
   ]
  },
  {
   "cell_type": "code",
   "execution_count": 348,
   "id": "dd9ce0f3",
   "metadata": {},
   "outputs": [
    {
     "data": {
      "text/plain": [
       "Index(['AT', 'AP', 'AH', 'AFDP', 'GTEP', 'TIT', 'TAT', 'TEY', 'CDP', 'CO',\n",
       "       'NOX'],\n",
       "      dtype='object')"
      ]
     },
     "execution_count": 348,
     "metadata": {},
     "output_type": "execute_result"
    }
   ],
   "source": [
    "df.columns"
   ]
  },
  {
   "cell_type": "code",
   "execution_count": 349,
   "id": "b8f07951",
   "metadata": {},
   "outputs": [
    {
     "data": {
      "text/plain": [
       "AT      0\n",
       "AP      0\n",
       "AH      0\n",
       "AFDP    0\n",
       "GTEP    0\n",
       "TIT     0\n",
       "TAT     0\n",
       "TEY     0\n",
       "CDP     0\n",
       "CO      0\n",
       "NOX     0\n",
       "dtype: int64"
      ]
     },
     "execution_count": 349,
     "metadata": {},
     "output_type": "execute_result"
    }
   ],
   "source": [
    "# Examining the presence of null values in the given data set\n",
    "df.isnull().sum()"
   ]
  },
  {
   "cell_type": "markdown",
   "id": "734d4ef5",
   "metadata": {},
   "source": [
    "By above cell we observer that there are no missing values"
   ]
  },
  {
   "cell_type": "code",
   "execution_count": 350,
   "id": "80d8946b",
   "metadata": {},
   "outputs": [
    {
     "data": {
      "image/png": "[encoded data removed]",
      "text/plain": [
       "<Figure size 1000x1000 with 12 Axes>"
      ]
     },
     "metadata": {},
     "output_type": "display_data"
    }
   ],
   "source": [
    "# Cleaning the dataset\n",
    "import matplotlib\n",
    "from matplotlib import pyplot as plt\n",
    "%matplotlib inline\n",
    "\n",
    "\n",
    "# Comparing each variable's normality using histogram\n",
    "df.hist(bins = 30, figsize= (10, 10) )\n",
    "plt.show()"
   ]
  },
  {
   "cell_type": "markdown",
   "id": "e4082eb8",
   "metadata": {},
   "source": [
    "In above describe function can be seen that almost all variable holds a low Stadard deviation, so the data is more concentrated to the mean."
   ]
  },
  {
   "cell_type": "code",
   "execution_count": 351,
   "id": "eaa36a68",
   "metadata": {},
   "outputs": [
    {
     "data": {
      "text/html": [
       "<div>\n",
       "<style scoped>\n",
       "    .dataframe tbody tr th:only-of-type {\n",
       "        vertical-align: middle;\n",
       "    }\n",
       "\n",
       "    .dataframe tbody tr th {\n",
       "        vertical-align: top;\n",
       "    }\n",
       "\n",
       "    .dataframe thead th {\n",
       "        text-align: right;\n",
       "    }\n",
       "</style>\n",
       "<table border=\"1\" class=\"dataframe\">\n",
       "  <thead>\n",
       "    <tr style=\"text-align: right;\">\n",
       "      <th></th>\n",
       "      <th>AT</th>\n",
       "      <th>AP</th>\n",
       "      <th>AH</th>\n",
       "      <th>AFDP</th>\n",
       "      <th>GTEP</th>\n",
       "      <th>TIT</th>\n",
       "      <th>TAT</th>\n",
       "      <th>TEY</th>\n",
       "      <th>CDP</th>\n",
       "      <th>CO</th>\n",
       "      <th>NOX</th>\n",
       "    </tr>\n",
       "  </thead>\n",
       "  <tbody>\n",
       "    <tr>\n",
       "      <th>AT</th>\n",
       "      <td>1.000000</td>\n",
       "      <td>-0.406601</td>\n",
       "      <td>-0.476291</td>\n",
       "      <td>0.251974</td>\n",
       "      <td>0.045851</td>\n",
       "      <td>0.183706</td>\n",
       "      <td>0.281869</td>\n",
       "      <td>-0.091152</td>\n",
       "      <td>0.015287</td>\n",
       "      <td>-0.174326</td>\n",
       "      <td>-0.558174</td>\n",
       "    </tr>\n",
       "    <tr>\n",
       "      <th>AP</th>\n",
       "      <td>-0.406601</td>\n",
       "      <td>1.000000</td>\n",
       "      <td>-0.015184</td>\n",
       "      <td>-0.040363</td>\n",
       "      <td>0.057533</td>\n",
       "      <td>-0.005390</td>\n",
       "      <td>-0.225601</td>\n",
       "      <td>0.118224</td>\n",
       "      <td>0.102636</td>\n",
       "      <td>0.067050</td>\n",
       "      <td>0.191938</td>\n",
       "    </tr>\n",
       "    <tr>\n",
       "      <th>AH</th>\n",
       "      <td>-0.476291</td>\n",
       "      <td>-0.015184</td>\n",
       "      <td>1.000000</td>\n",
       "      <td>-0.147840</td>\n",
       "      <td>-0.235153</td>\n",
       "      <td>-0.221809</td>\n",
       "      <td>0.022965</td>\n",
       "      <td>-0.137360</td>\n",
       "      <td>-0.196275</td>\n",
       "      <td>0.106586</td>\n",
       "      <td>0.164617</td>\n",
       "    </tr>\n",
       "    <tr>\n",
       "      <th>AFDP</th>\n",
       "      <td>0.251974</td>\n",
       "      <td>-0.040363</td>\n",
       "      <td>-0.147840</td>\n",
       "      <td>1.000000</td>\n",
       "      <td>0.678485</td>\n",
       "      <td>0.691292</td>\n",
       "      <td>-0.466882</td>\n",
       "      <td>0.665483</td>\n",
       "      <td>0.702568</td>\n",
       "      <td>-0.448425</td>\n",
       "      <td>-0.188247</td>\n",
       "    </tr>\n",
       "    <tr>\n",
       "      <th>GTEP</th>\n",
       "      <td>0.045851</td>\n",
       "      <td>0.057533</td>\n",
       "      <td>-0.235153</td>\n",
       "      <td>0.678485</td>\n",
       "      <td>1.000000</td>\n",
       "      <td>0.874234</td>\n",
       "      <td>-0.699703</td>\n",
       "      <td>0.964127</td>\n",
       "      <td>0.978470</td>\n",
       "      <td>-0.518909</td>\n",
       "      <td>-0.201630</td>\n",
       "    </tr>\n",
       "    <tr>\n",
       "      <th>TIT</th>\n",
       "      <td>0.183706</td>\n",
       "      <td>-0.005390</td>\n",
       "      <td>-0.221809</td>\n",
       "      <td>0.691292</td>\n",
       "      <td>0.874234</td>\n",
       "      <td>1.000000</td>\n",
       "      <td>-0.380862</td>\n",
       "      <td>0.910297</td>\n",
       "      <td>0.908469</td>\n",
       "      <td>-0.706275</td>\n",
       "      <td>-0.213865</td>\n",
       "    </tr>\n",
       "    <tr>\n",
       "      <th>TAT</th>\n",
       "      <td>0.281869</td>\n",
       "      <td>-0.225601</td>\n",
       "      <td>0.022965</td>\n",
       "      <td>-0.466882</td>\n",
       "      <td>-0.699703</td>\n",
       "      <td>-0.380862</td>\n",
       "      <td>1.000000</td>\n",
       "      <td>-0.682396</td>\n",
       "      <td>-0.706438</td>\n",
       "      <td>0.058353</td>\n",
       "      <td>-0.092791</td>\n",
       "    </tr>\n",
       "    <tr>\n",
       "      <th>TEY</th>\n",
       "      <td>-0.091152</td>\n",
       "      <td>0.118224</td>\n",
       "      <td>-0.137360</td>\n",
       "      <td>0.665483</td>\n",
       "      <td>0.964127</td>\n",
       "      <td>0.910297</td>\n",
       "      <td>-0.682396</td>\n",
       "      <td>1.000000</td>\n",
       "      <td>0.988778</td>\n",
       "      <td>-0.569813</td>\n",
       "      <td>-0.116127</td>\n",
       "    </tr>\n",
       "    <tr>\n",
       "      <th>CDP</th>\n",
       "      <td>0.015287</td>\n",
       "      <td>0.102636</td>\n",
       "      <td>-0.196275</td>\n",
       "      <td>0.702568</td>\n",
       "      <td>0.978470</td>\n",
       "      <td>0.908469</td>\n",
       "      <td>-0.706438</td>\n",
       "      <td>0.988778</td>\n",
       "      <td>1.000000</td>\n",
       "      <td>-0.551027</td>\n",
       "      <td>-0.171256</td>\n",
       "    </tr>\n",
       "    <tr>\n",
       "      <th>CO</th>\n",
       "      <td>-0.174326</td>\n",
       "      <td>0.067050</td>\n",
       "      <td>0.106586</td>\n",
       "      <td>-0.448425</td>\n",
       "      <td>-0.518909</td>\n",
       "      <td>-0.706275</td>\n",
       "      <td>0.058353</td>\n",
       "      <td>-0.569813</td>\n",
       "      <td>-0.551027</td>\n",
       "      <td>1.000000</td>\n",
       "      <td>0.340606</td>\n",
       "    </tr>\n",
       "    <tr>\n",
       "      <th>NOX</th>\n",
       "      <td>-0.558174</td>\n",
       "      <td>0.191938</td>\n",
       "      <td>0.164617</td>\n",
       "      <td>-0.188247</td>\n",
       "      <td>-0.201630</td>\n",
       "      <td>-0.213865</td>\n",
       "      <td>-0.092791</td>\n",
       "      <td>-0.116127</td>\n",
       "      <td>-0.171256</td>\n",
       "      <td>0.340606</td>\n",
       "      <td>1.000000</td>\n",
       "    </tr>\n",
       "  </tbody>\n",
       "</table>\n",
       "</div>"
      ],
      "text/plain": [
       "            AT        AP        AH      AFDP      GTEP       TIT       TAT  \\\n",
       "AT    1.000000 -0.406601 -0.476291  0.251974  0.045851  0.183706  0.281869   \n",
       "AP   -0.406601  1.000000 -0.015184 -0.040363  0.057533 -0.005390 -0.225601   \n",
       "AH   -0.476291 -0.015184  1.000000 -0.147840 -0.235153 -0.221809  0.022965   \n",
       "AFDP  0.251974 -0.040363 -0.147840  1.000000  0.678485  0.691292 -0.466882   \n",
       "GTEP  0.045851  0.057533 -0.235153  0.678485  1.000000  0.874234 -0.699703   \n",
       "TIT   0.183706 -0.005390 -0.221809  0.691292  0.874234  1.000000 -0.380862   \n",
       "TAT   0.281869 -0.225601  0.022965 -0.466882 -0.699703 -0.380862  1.000000   \n",
       "TEY  -0.091152  0.118224 -0.137360  0.665483  0.964127  0.910297 -0.682396   \n",
       "CDP   0.015287  0.102636 -0.196275  0.702568  0.978470  0.908469 -0.706438   \n",
       "CO   -0.174326  0.067050  0.106586 -0.448425 -0.518909 -0.706275  0.058353   \n",
       "NOX  -0.558174  0.191938  0.164617 -0.188247 -0.201630 -0.213865 -0.092791   \n",
       "\n",
       "           TEY       CDP        CO       NOX  \n",
       "AT   -0.091152  0.015287 -0.174326 -0.558174  \n",
       "AP    0.118224  0.102636  0.067050  0.191938  \n",
       "AH   -0.137360 -0.196275  0.106586  0.164617  \n",
       "AFDP  0.665483  0.702568 -0.448425 -0.188247  \n",
       "GTEP  0.964127  0.978470 -0.518909 -0.201630  \n",
       "TIT   0.910297  0.908469 -0.706275 -0.213865  \n",
       "TAT  -0.682396 -0.706438  0.058353 -0.092791  \n",
       "TEY   1.000000  0.988778 -0.569813 -0.116127  \n",
       "CDP   0.988778  1.000000 -0.551027 -0.171256  \n",
       "CO   -0.569813 -0.551027  1.000000  0.340606  \n",
       "NOX  -0.116127 -0.171256  0.340606  1.000000  "
      ]
     },
     "execution_count": 351,
     "metadata": {},
     "output_type": "execute_result"
    }
   ],
   "source": [
    "df.corr()"
   ]
  },
  {
   "cell_type": "code",
   "execution_count": 352,
   "id": "9970790a",
   "metadata": {},
   "outputs": [
    {
     "data": {
      "text/plain": [
       "<AxesSubplot:>"
      ]
     },
     "execution_count": 352,
     "metadata": {},
     "output_type": "execute_result"
    },
    {
     "data": {
      "image/png": "[encoded data removed]",
      "text/plain": [
       "<Figure size 640x480 with 2 Axes>"
      ]
     },
     "metadata": {},
     "output_type": "display_data"
    }
   ],
   "source": [
    "sns.heatmap(df.corr())"
   ]
  },
  {
   "cell_type": "code",
   "execution_count": 353,
   "id": "f838a34e",
   "metadata": {},
   "outputs": [],
   "source": [
    "# In the above heat map it can be seen that some of the columns are correlated and other are moderately correlated."
   ]
  },
  {
   "cell_type": "markdown",
   "id": "a918872c",
   "metadata": {},
   "source": [
    "### checking for outliers"
   ]
  },
  {
   "cell_type": "code",
   "execution_count": 354,
   "id": "d054d9b5",
   "metadata": {},
   "outputs": [
    {
     "data": {
      "text/plain": [
       "<AxesSubplot:>"
      ]
     },
     "execution_count": 354,
     "metadata": {},
     "output_type": "execute_result"
    },
    {
     "data": {
      "image/png": "[encoded data removed]",
      "text/plain": [
       "<Figure size 1000x1000 with 1 Axes>"
      ]
     },
     "metadata": {},
     "output_type": "display_data"
    }
   ],
   "source": [
    "# Identifying the outliers in the dataset\n",
    "df.boxplot(figsize = (10, 10), widths = 1)"
   ]
  },
  {
   "cell_type": "code",
   "execution_count": 355,
   "id": "c08ba31f",
   "metadata": {},
   "outputs": [],
   "source": [
    "# Most of the attributes are having outliers in the data.\n",
    "# AP,AH,AFDP,GTEP,TIT,TAT,TEY,CDP,CO,NOX are having outliers."
   ]
  },
  {
   "cell_type": "markdown",
   "id": "02332070",
   "metadata": {},
   "source": [
    "### Replacing Outliers"
   ]
  },
  {
   "cell_type": "code",
   "execution_count": 356,
   "id": "db3b1219",
   "metadata": {},
   "outputs": [
    {
     "name": "stdout",
     "output_type": "stream",
     "text": [
      "Index(['AT', 'AP', 'AH', 'AFDP', 'GTEP', 'TIT', 'TAT', 'TEY', 'CDP', 'CO',\n",
      "       'NOX'],\n",
      "      dtype='object')\n"
     ]
    }
   ],
   "source": [
    "col = df.columns\n",
    "print(col)   "
   ]
  },
  {
   "cell_type": "code",
   "execution_count": 357,
   "id": "9ef66f55",
   "metadata": {},
   "outputs": [],
   "source": [
    "#method to replace all the outliers in the data.\n",
    "\n",
    "for c in col:\n",
    "    Q1 = df[c].quantile(0.25)\n",
    "    Q3 = df[c].quantile(0.75)\n",
    "    IQR = Q3 - Q1\n",
    "    width = 1.5\n",
    "    lower_width = Q1 -(width*IQR)\n",
    "    upper_width = Q3 + (width*IQR)\n",
    "    df[c]=np.where(df[c]>upper_width,upper_width,np.where(df[c]<lower_width,lower_width,df[c]))"
   ]
  },
  {
   "cell_type": "code",
   "execution_count": 358,
   "id": "0767ce83",
   "metadata": {},
   "outputs": [
    {
     "data": {
      "text/plain": [
       "<AxesSubplot:>"
      ]
     },
     "execution_count": 358,
     "metadata": {},
     "output_type": "execute_result"
    },
    {
     "data": {
      "image/png": "[encoded data removed]",
      "text/plain": [
       "<Figure size 640x480 with 1 Axes>"
      ]
     },
     "metadata": {},
     "output_type": "display_data"
    }
   ],
   "source": [
    "df[['AT']].boxplot()"
   ]
  },
  {
   "cell_type": "code",
   "execution_count": 359,
   "id": "61234304",
   "metadata": {},
   "outputs": [
    {
     "data": {
      "text/plain": [
       "<AxesSubplot:>"
      ]
     },
     "execution_count": 359,
     "metadata": {},
     "output_type": "execute_result"
    },
    {
     "data": {
      "image/png": "[encoded data removed]",
      "text/plain": [
       "<Figure size 640x480 with 1 Axes>"
      ]
     },
     "metadata": {},
     "output_type": "display_data"
    }
   ],
   "source": [
    "df[['AP']].boxplot()"
   ]
  },
  {
   "cell_type": "code",
   "execution_count": 360,
   "id": "3431c268",
   "metadata": {},
   "outputs": [
    {
     "data": {
      "text/plain": [
       "<AxesSubplot:>"
      ]
     },
     "execution_count": 360,
     "metadata": {},
     "output_type": "execute_result"
    },
    {
     "data": {
      "image/png": "[encoded data removed]",
      "text/plain": [
       "<Figure size 640x480 with 1 Axes>"
      ]
     },
     "metadata": {},
     "output_type": "display_data"
    }
   ],
   "source": [
    "df[['AH']].boxplot()"
   ]
  },
  {
   "cell_type": "code",
   "execution_count": 361,
   "id": "76ad0c3c",
   "metadata": {},
   "outputs": [
    {
     "data": {
      "text/plain": [
       "<AxesSubplot:>"
      ]
     },
     "execution_count": 361,
     "metadata": {},
     "output_type": "execute_result"
    },
    {
     "data": {
      "image/png": "[encoded data removed]",
      "text/plain": [
       "<Figure size 640x480 with 1 Axes>"
      ]
     },
     "metadata": {},
     "output_type": "display_data"
    }
   ],
   "source": [
    "df[['AFDP']].boxplot()"
   ]
  },
  {
   "cell_type": "code",
   "execution_count": 362,
   "id": "1b331976",
   "metadata": {},
   "outputs": [
    {
     "data": {
      "text/plain": [
       "<AxesSubplot:>"
      ]
     },
     "execution_count": 362,
     "metadata": {},
     "output_type": "execute_result"
    },
    {
     "data": {
      "image/png": "[encoded data removed]",
      "text/plain": [
       "<Figure size 640x480 with 1 Axes>"
      ]
     },
     "metadata": {},
     "output_type": "display_data"
    }
   ],
   "source": [
    "df[['GTEP']].boxplot()"
   ]
  },
  {
   "cell_type": "code",
   "execution_count": 363,
   "id": "de9e5b6e",
   "metadata": {},
   "outputs": [
    {
     "data": {
      "text/plain": [
       "<AxesSubplot:>"
      ]
     },
     "execution_count": 363,
     "metadata": {},
     "output_type": "execute_result"
    },
    {
     "data": {
      "image/png": "[encoded data removed]",
      "text/plain": [
       "<Figure size 640x480 with 1 Axes>"
      ]
     },
     "metadata": {},
     "output_type": "display_data"
    }
   ],
   "source": [
    "df[['TIT']].boxplot()"
   ]
  },
  {
   "cell_type": "code",
   "execution_count": 364,
   "id": "87792ff4",
   "metadata": {},
   "outputs": [
    {
     "data": {
      "text/plain": [
       "<AxesSubplot:>"
      ]
     },
     "execution_count": 364,
     "metadata": {},
     "output_type": "execute_result"
    },
    {
     "data": {
      "image/png": "[encoded data removed]",
      "text/plain": [
       "<Figure size 640x480 with 1 Axes>"
      ]
     },
     "metadata": {},
     "output_type": "display_data"
    }
   ],
   "source": [
    "df[['TAT']].boxplot()"
   ]
  },
  {
   "cell_type": "code",
   "execution_count": 365,
   "id": "d3b038f0",
   "metadata": {},
   "outputs": [
    {
     "data": {
      "text/plain": [
       "<AxesSubplot:>"
      ]
     },
     "execution_count": 365,
     "metadata": {},
     "output_type": "execute_result"
    },
    {
     "data": {
      "image/png": "[encoded data removed]",
      "text/plain": [
       "<Figure size 640x480 with 1 Axes>"
      ]
     },
     "metadata": {},
     "output_type": "display_data"
    }
   ],
   "source": [
    "df[['TEY']].boxplot()"
   ]
  },
  {
   "cell_type": "code",
   "execution_count": 366,
   "id": "ac2b7ccd",
   "metadata": {},
   "outputs": [
    {
     "data": {
      "text/plain": [
       "<AxesSubplot:>"
      ]
     },
     "execution_count": 366,
     "metadata": {},
     "output_type": "execute_result"
    },
    {
     "data": {
      "image/png": "[encoded data removed]",
      "text/plain": [
       "<Figure size 640x480 with 1 Axes>"
      ]
     },
     "metadata": {},
     "output_type": "display_data"
    }
   ],
   "source": [
    "df[['CDP']].boxplot()"
   ]
  },
  {
   "cell_type": "code",
   "execution_count": 367,
   "id": "2c8425e5",
   "metadata": {},
   "outputs": [
    {
     "data": {
      "text/plain": [
       "<AxesSubplot:>"
      ]
     },
     "execution_count": 367,
     "metadata": {},
     "output_type": "execute_result"
    },
    {
     "data": {
      "image/png": "[encoded data removed]",
      "text/plain": [
       "<Figure size 640x480 with 1 Axes>"
      ]
     },
     "metadata": {},
     "output_type": "display_data"
    }
   ],
   "source": [
    "df[['CO']].boxplot()"
   ]
  },
  {
   "cell_type": "code",
   "execution_count": 368,
   "id": "9878a012",
   "metadata": {},
   "outputs": [
    {
     "data": {
      "text/plain": [
       "<AxesSubplot:>"
      ]
     },
     "execution_count": 368,
     "metadata": {},
     "output_type": "execute_result"
    },
    {
     "data": {
      "image/png": "[encoded data removed]",
      "text/plain": [
       "<Figure size 640x480 with 1 Axes>"
      ]
     },
     "metadata": {},
     "output_type": "display_data"
    }
   ],
   "source": [
    "df[['NOX']].boxplot()"
   ]
  },
  {
   "cell_type": "markdown",
   "id": "b8a8ba87",
   "metadata": {},
   "source": [
    "The above Dataset is Cleaned, using flooring method the outliers are replaced."
   ]
  },
  {
   "cell_type": "code",
   "execution_count": 369,
   "id": "622fb272",
   "metadata": {},
   "outputs": [],
   "source": [
    "#saving the data in CSV format using .to_csv function\n",
    "df.to_csv('C:\\\\Users\\\\12142\\\\Documents\\\\Intro to DS\\\\Group_13_data_cleaned.csv', index=False) "
   ]
  },
  {
   "cell_type": "code",
   "execution_count": 370,
   "id": "6ad9fa73",
   "metadata": {},
   "outputs": [],
   "source": [
    "# numpy.savez_compressed isused to save in zipped numpy files\n",
    "np.savez_compressed('C:\\\\Users\\\\12142\\\\Documents\\\\Intro to DS\\\\Group_13_data_cleaned.npz',df)"
   ]
  },
  {
   "cell_type": "code",
   "execution_count": 371,
   "id": "15fc4b1c",
   "metadata": {},
   "outputs": [],
   "source": [
    "# to_pickle is used to save the file in pickel format\n",
    "pd.to_pickle(df,'C:\\\\Users\\\\12142\\\\Documents\\\\Intro to DS\\\\Group_13_data_cleaned.pkl')"
   ]
  },
  {
   "cell_type": "code",
   "execution_count": 372,
   "id": "f004eda9",
   "metadata": {},
   "outputs": [],
   "source": [
    "import pymysql\n",
    "import os"
   ]
  },
  {
   "cell_type": "code",
   "execution_count": 373,
   "id": "dacceeec",
   "metadata": {},
   "outputs": [],
   "source": [
    "folder_name = 'C:\\\\Users\\\\12142\\\\Documents\\\\Intro to DS'\n",
    "#if not os.path.exists(folder_name):\n",
    "   # os.makedirs(folder_name)\n"
   ]
  },
  {
   "cell_type": "code",
   "execution_count": 374,
   "id": "9484dd86",
   "metadata": {},
   "outputs": [],
   "source": [
    "mysql_conn = pymysql.connect(host='localhost',\n",
    "                             user='root',\n",
    "                             password='0105@al',\n",
    "                             db='group_13_data',\n",
    "                             charset='utf8mb4',\n",
    "                             cursorclass=pymysql.cursors.DictCursor)"
   ]
  },
  {
   "cell_type": "code",
   "execution_count": 375,
   "id": "60ba56c3",
   "metadata": {},
   "outputs": [],
   "source": [
    "with open(f'{folder_name}/Group_13_data.sql', 'w') as f:\n",
    "    # Create the table with the appropriate columns and data types\n",
    "    create_table_sql = \"group_13_data ({})\"\n",
    "    column_names = list(df.columns)\n",
    "    column_types = [f'{col} INT' for col in column_names]\n",
    "    create_table_sql = create_table_sql.format(', '.join(column_types))\n",
    "    f.write(create_table_sql)\n",
    "    f.write('\\n\\n')\n",
    "    for index, row in df.iterrows():\n",
    "        values = \"','\".join(str(value).replace(\"'\", \"''\") for value in row.values)\n",
    "        insert_sql = \"INSERT INTO group_13_data ({}) VALUES ('{}')\"\n",
    "        insert_sql = insert_sql.format(', '.join(column_names), values)\n",
    "        f.write(insert_sql)\n",
    "        f.write('\\n')\n",
    "f.close()  \n"
   ]
  },
  {
   "cell_type": "code",
   "execution_count": 376,
   "id": "3b9450cf",
   "metadata": {},
   "outputs": [
    {
     "data": {
      "text/plain": [
       "36733"
      ]
     },
     "execution_count": 376,
     "metadata": {},
     "output_type": "execute_result"
    }
   ],
   "source": [
    "sql = f\" SELECT * FROM group_13_data\"\n",
    "cur = mysql_conn.cursor()\n",
    "cur.execute(sql)"
   ]
  },
  {
   "cell_type": "code",
   "execution_count": 377,
   "id": "3f1ca3df",
   "metadata": {},
   "outputs": [
    {
     "data": {
      "text/html": [
       "<div>\n",
       "<style scoped>\n",
       "    .dataframe tbody tr th:only-of-type {\n",
       "        vertical-align: middle;\n",
       "    }\n",
       "\n",
       "    .dataframe tbody tr th {\n",
       "        vertical-align: top;\n",
       "    }\n",
       "\n",
       "    .dataframe thead th {\n",
       "        text-align: right;\n",
       "    }\n",
       "</style>\n",
       "<table border=\"1\" class=\"dataframe\">\n",
       "  <thead>\n",
       "    <tr style=\"text-align: right;\">\n",
       "      <th></th>\n",
       "      <th>AT</th>\n",
       "      <th>AP</th>\n",
       "      <th>AH</th>\n",
       "      <th>AFDP</th>\n",
       "      <th>GTEP</th>\n",
       "      <th>TIT</th>\n",
       "      <th>TAT</th>\n",
       "      <th>TEY</th>\n",
       "      <th>CDP</th>\n",
       "      <th>CO</th>\n",
       "      <th>NOX</th>\n",
       "    </tr>\n",
       "  </thead>\n",
       "  <tbody>\n",
       "    <tr>\n",
       "      <th>0</th>\n",
       "      <td>4.5878</td>\n",
       "      <td>1018.7</td>\n",
       "      <td>83.675</td>\n",
       "      <td>3.5758</td>\n",
       "      <td>23.979</td>\n",
       "      <td>1086.2</td>\n",
       "      <td>549.83</td>\n",
       "      <td>134.67</td>\n",
       "      <td>11.898</td>\n",
       "      <td>0.32663</td>\n",
       "      <td>81.952</td>\n",
       "    </tr>\n",
       "    <tr>\n",
       "      <th>1</th>\n",
       "      <td>4.2932</td>\n",
       "      <td>1018.3</td>\n",
       "      <td>84.235</td>\n",
       "      <td>3.5709</td>\n",
       "      <td>23.951</td>\n",
       "      <td>1086.1</td>\n",
       "      <td>550.05</td>\n",
       "      <td>134.67</td>\n",
       "      <td>11.892</td>\n",
       "      <td>0.44784</td>\n",
       "      <td>82.377</td>\n",
       "    </tr>\n",
       "    <tr>\n",
       "      <th>2</th>\n",
       "      <td>3.9045</td>\n",
       "      <td>1018.4</td>\n",
       "      <td>84.858</td>\n",
       "      <td>3.5828</td>\n",
       "      <td>23.990</td>\n",
       "      <td>1086.5</td>\n",
       "      <td>550.19</td>\n",
       "      <td>135.10</td>\n",
       "      <td>12.042</td>\n",
       "      <td>0.45144</td>\n",
       "      <td>83.776</td>\n",
       "    </tr>\n",
       "    <tr>\n",
       "      <th>3</th>\n",
       "      <td>3.7436</td>\n",
       "      <td>1018.3</td>\n",
       "      <td>85.434</td>\n",
       "      <td>3.5808</td>\n",
       "      <td>23.911</td>\n",
       "      <td>1086.5</td>\n",
       "      <td>550.17</td>\n",
       "      <td>135.03</td>\n",
       "      <td>11.990</td>\n",
       "      <td>0.23107</td>\n",
       "      <td>82.505</td>\n",
       "    </tr>\n",
       "    <tr>\n",
       "      <th>4</th>\n",
       "      <td>3.7516</td>\n",
       "      <td>1017.8</td>\n",
       "      <td>85.182</td>\n",
       "      <td>3.5781</td>\n",
       "      <td>23.917</td>\n",
       "      <td>1085.9</td>\n",
       "      <td>550.00</td>\n",
       "      <td>134.67</td>\n",
       "      <td>11.910</td>\n",
       "      <td>0.26747</td>\n",
       "      <td>82.028</td>\n",
       "    </tr>\n",
       "  </tbody>\n",
       "</table>\n",
       "</div>"
      ],
      "text/plain": [
       "       AT      AP      AH    AFDP    GTEP     TIT     TAT     TEY     CDP  \\\n",
       "0  4.5878  1018.7  83.675  3.5758  23.979  1086.2  549.83  134.67  11.898   \n",
       "1  4.2932  1018.3  84.235  3.5709  23.951  1086.1  550.05  134.67  11.892   \n",
       "2  3.9045  1018.4  84.858  3.5828  23.990  1086.5  550.19  135.10  12.042   \n",
       "3  3.7436  1018.3  85.434  3.5808  23.911  1086.5  550.17  135.03  11.990   \n",
       "4  3.7516  1017.8  85.182  3.5781  23.917  1085.9  550.00  134.67  11.910   \n",
       "\n",
       "        CO     NOX  \n",
       "0  0.32663  81.952  \n",
       "1  0.44784  82.377  \n",
       "2  0.45144  83.776  \n",
       "3  0.23107  82.505  \n",
       "4  0.26747  82.028  "
      ]
     },
     "execution_count": 377,
     "metadata": {},
     "output_type": "execute_result"
    }
   ],
   "source": [
    "dataset = pd.DataFrame(cur.fetchall())\n",
    "dataset.head()"
   ]
  },
  {
   "cell_type": "code",
   "execution_count": 378,
   "id": "486fd1b0",
   "metadata": {},
   "outputs": [],
   "source": [
    "cur.close()"
   ]
  },
  {
   "cell_type": "code",
   "execution_count": null,
   "id": "5b7dcd9c",
   "metadata": {},
   "outputs": [],
   "source": []
  }
 ],
 "metadata": {
  "kernelspec": {
   "display_name": "Python 3 (ipykernel)",
   "language": "python",
   "name": "python3"
  },
  "language_info": {
   "codemirror_mode": {
    "name": "ipython",
    "version": 3
   },
   "file_extension": ".py",
   "mimetype": "text/x-python",
   "name": "python",
   "nbconvert_exporter": "python",
   "pygments_lexer": "ipython3",
   "version": "3.9.13"
  }
 },
 "nbformat": 4,
 "nbformat_minor": 5
}
